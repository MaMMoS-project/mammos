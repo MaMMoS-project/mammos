{
 "cells": [
  {
   "cell_type": "markdown",
   "id": "6f55f51b",
   "metadata": {},
   "source": [
    "# Linearisation Workflow"
   ]
  },
  {
   "cell_type": "code",
   "execution_count": 1,
   "id": "bbf994bf-eb23-417f-b26c-9dfb934ba068",
   "metadata": {},
   "outputs": [],
   "source": [
    "import mammos_analysis\n",
    "import mammos_mumag\n",
    "import pandas as pd"
   ]
  },
  {
   "cell_type": "markdown",
   "id": "c3e80804",
   "metadata": {},
   "source": [
    "Assuming we already have the result of a hysteresis loop in the file `box.dat`, we can load it with"
   ]
  },
  {
   "cell_type": "code",
   "execution_count": 2,
   "id": "669a55f3-1a8d-4d05-a1b2-253861882dac",
   "metadata": {},
   "outputs": [],
   "source": [
    "loop_results = mammos_mumag.hysteresis.Result(\n",
    "    pd.read_csv(\n",
    "        \"box.dat\",\n",
    "        delimiter=\" \",\n",
    "        names=[\"configuration_type\", \"mu0_Hext\", \"polarisation\", \"E\"],\n",
    "    )\n",
    ")"
   ]
  },
  {
   "cell_type": "markdown",
   "id": "e4376f31",
   "metadata": {},
   "source": [
    "From this object we can extract `H`, `M`, and `EnergyDensity`. These represents, respectively, the external applied field, the spontaneous magnetisation, and the energy density."
   ]
  },
  {
   "cell_type": "code",
   "execution_count": 3,
   "id": "b4527438",
   "metadata": {},
   "outputs": [
    {
     "data": {
      "text/latex": [
       "ExternalMagneticField(value=[ 397887.35751314  397728.20257013  397569.04762713 ... -168226.77475654\n",
       " -168385.92969955 -168545.08464255], unit=A / m)"
      ],
      "text/plain": [
       "ExternalMagneticField(value=[ 397887.35751314  397728.20257013  397569.04762713 ... -168226.77475654\n",
       " -168385.92969955 -168545.08464255], unit=A / m)"
      ]
     },
     "execution_count": 3,
     "metadata": {},
     "output_type": "execute_result"
    }
   ],
   "source": [
    "loop_results.H"
   ]
  },
  {
   "cell_type": "code",
   "execution_count": 4,
   "id": "d6330de1",
   "metadata": {},
   "outputs": [
    {
     "data": {
      "text/latex": [
       "SpontaneousMagnetization(value=[ 0.97354961  0.983241    0.97846434 ... -0.77453543 -0.7870981\n",
       " -0.80654438], unit=T)"
      ],
      "text/plain": [
       "SpontaneousMagnetization(value=[ 0.97354961  0.983241    0.97846434 ... -0.77453543 -0.7870981\n",
       " -0.80654438], unit=T)"
      ]
     },
     "execution_count": 4,
     "metadata": {},
     "output_type": "execute_result"
    }
   ],
   "source": [
    "loop_results.M"
   ]
  },
  {
   "cell_type": "code",
   "execution_count": 5,
   "id": "598e313b",
   "metadata": {},
   "outputs": [
    {
     "data": {
      "text/latex": [
       "EnergyDensity(value=[-0.32673491 -0.3278284  -0.32865243 ... -0.04862285 -0.05375878\n",
       " -0.05665882], unit=J / m3)"
      ],
      "text/plain": [
       "EnergyDensity(value=[-0.32673491 -0.3278284  -0.32865243 ... -0.04862285 -0.05375878\n",
       " -0.05665882], unit=J / m3)"
      ]
     },
     "execution_count": 5,
     "metadata": {},
     "output_type": "execute_result"
    }
   ],
   "source": [
    "loop_results.EnergyDensity"
   ]
  },
  {
   "cell_type": "markdown",
   "id": "f629ce07",
   "metadata": {},
   "source": [
    "We can plot the hysteresis loop with the `plot` method:"
   ]
  },
  {
   "cell_type": "code",
   "execution_count": 6,
   "id": "b9436d2a-1e88-4309-96d1-d9ae1b6c9300",
   "metadata": {},
   "outputs": [
    {
     "data": {
      "image/png": "[encoded data removed]",
      "text/plain": [
       "<Figure size 640x480 with 1 Axes>"
      ]
     },
     "metadata": {},
     "output_type": "display_data"
    }
   ],
   "source": [
    "loop_results.plot(configuration_marks=False)"
   ]
  },
  {
   "cell_type": "markdown",
   "id": "4e2b2328",
   "metadata": {},
   "source": [
    "We can extract the extrinsic properties with the `extrinsic_properties` function from the `mammos_analysis` package:"
   ]
  },
  {
   "cell_type": "code",
   "execution_count": 7,
   "id": "88e7b8f2",
   "metadata": {},
   "outputs": [
    {
     "data": {
      "text/plain": [
       "ExtrinsicProperties(Hc=CoercivityHcExternal(value=-63147.24333538003, unit=A / m), Mr=Remanence(value=-13209.860269418283, unit=A / m), BHmax=MaximumEnergyProduct(value=0.0, unit=J / m3))"
      ]
     },
     "execution_count": 7,
     "metadata": {},
     "output_type": "execute_result"
    }
   ],
   "source": [
    "extrinsic_properties = mammos_analysis.hysteresis.extrinsic_properties(\n",
    "    loop_results.M, loop_results.H\n",
    ")\n",
    "extrinsic_properties"
   ]
  },
  {
   "cell_type": "markdown",
   "id": "97682fbe",
   "metadata": {},
   "source": [
    "And finally we can evaluate the length of the linearised segment using the `linearised_segment` function:"
   ]
  },
  {
   "cell_type": "code",
   "execution_count": 8,
   "id": "e133eb25",
   "metadata": {},
   "outputs": [
    {
     "data": {
      "text/latex": [
       "$0.96131837 \\; \\mathrm{\\frac{A}{m}}$"
      ],
      "text/plain": [
       "<Quantity 0.96131837 A / m>"
      ]
     },
     "execution_count": 8,
     "metadata": {},
     "output_type": "execute_result"
    }
   ],
   "source": [
    "mammos_analysis.hysteresis.linearised_segment(loop_results.M, loop_results.H)"
   ]
  }
 ],
 "metadata": {
  "kernelspec": {
   "display_name": "default",
   "language": "python",
   "name": "python3"
  },
  "language_info": {
   "codemirror_mode": {
    "name": "ipython",
    "version": 3
   },
   "file_extension": ".py",
   "mimetype": "text/x-python",
   "name": "python",
   "nbconvert_exporter": "python",
   "pygments_lexer": "ipython3",
   "version": "3.11.12"
  }
 },
 "nbformat": 4,
 "nbformat_minor": 5
}

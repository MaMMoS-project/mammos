{
 "cells": [
  {
   "cell_type": "markdown",
   "id": "6f55f51b",
   "metadata": {},
   "source": [
    "# Workflow"
   ]
  },
  {
   "cell_type": "code",
   "execution_count": 1,
   "id": "2ee01e2d",
   "metadata": {},
   "outputs": [],
   "source": [
    "import matplotlib.pyplot as plt\n",
    "import numpy as np\n",
    "\n",
    "import mammos_analysis\n",
    "import mammos_dft\n",
    "import mammos_spindynamics\n",
    "import mammos_mumag\n",
    "import mammos_entity as me\n",
    "import mammos_units as u"
   ]
  },
  {
   "cell_type": "markdown",
   "id": "eff2974e",
   "metadata": {},
   "source": [
    "## 1: DFT data: magnetisation and anisotropy at zero Kelvin"
   ]
  },
  {
   "cell_type": "code",
   "execution_count": 2,
   "id": "6de4d152",
   "metadata": {},
   "outputs": [
    {
     "data": {
      "text/html": [
       "<pre style=\"white-space:pre;overflow-x:auto;line-height:normal;font-family:Menlo,'DejaVu Sans Mono',consolas,'Courier New',monospace\">Found material in database.\n",
       "</pre>\n"
      ],
      "text/plain": [
       "Found material in database.\n"
      ]
     },
     "metadata": {},
     "output_type": "display_data"
    },
    {
     "data": {
      "text/html": [
       "<pre style=\"white-space:pre;overflow-x:auto;line-height:normal;font-family:Menlo,'DejaVu Sans Mono',consolas,'Courier New',monospace\">\n",
       "Chemical Formula: Nd2Fe14B\n",
       "Space group name: P42/mnm\n",
       "Space group number: <span style=\"color: #008080; text-decoration-color: #008080; font-weight: bold\">136</span>\n",
       "Cell length a: <span style=\"color: #008080; text-decoration-color: #008080; font-weight: bold\">8.78</span> Angstrom\n",
       "Cell length b: <span style=\"color: #008080; text-decoration-color: #008080; font-weight: bold\">8.78</span> Angstrom\n",
       "Cell length c: <span style=\"color: #008080; text-decoration-color: #008080; font-weight: bold\">12.12</span> Angstrom\n",
       "Cell angle alpha: <span style=\"color: #008080; text-decoration-color: #008080; font-weight: bold\">90.0</span> deg\n",
       "Cell angle beta: <span style=\"color: #008080; text-decoration-color: #008080; font-weight: bold\">90.0</span> deg\n",
       "Cell angle gamma: <span style=\"color: #008080; text-decoration-color: #008080; font-weight: bold\">90.0</span> deg\n",
       "Cell volume: <span style=\"color: #008080; text-decoration-color: #008080; font-weight: bold\">933.42</span> Angstrom\n",
       "ICSD_label: \n",
       "OQMD_label: \n",
       "\n",
       "</pre>\n"
      ],
      "text/plain": [
       "\n",
       "Chemical Formula: Nd2Fe14B\n",
       "Space group name: P42/mnm\n",
       "Space group number: \u001b[1;36m136\u001b[0m\n",
       "Cell length a: \u001b[1;36m8.78\u001b[0m Angstrom\n",
       "Cell length b: \u001b[1;36m8.78\u001b[0m Angstrom\n",
       "Cell length c: \u001b[1;36m12.12\u001b[0m Angstrom\n",
       "Cell angle alpha: \u001b[1;36m90.0\u001b[0m deg\n",
       "Cell angle beta: \u001b[1;36m90.0\u001b[0m deg\n",
       "Cell angle gamma: \u001b[1;36m90.0\u001b[0m deg\n",
       "Cell volume: \u001b[1;36m933.42\u001b[0m Angstrom\n",
       "ICSD_label: \n",
       "OQMD_label: \n",
       "\n"
      ]
     },
     "metadata": {},
     "output_type": "display_data"
    }
   ],
   "source": [
    "results_dft = mammos_dft.db.get_micromagnetic_properties(\"Nd2Fe14B-136\")"
   ]
  },
  {
   "cell_type": "markdown",
   "id": "da62070c",
   "metadata": {},
   "source": [
    "The first step loads spontaneous magnetisation $M_s$ and the uniaxial anisotropy constant $K_1$ from a database of DFT calculations."
   ]
  },
  {
   "cell_type": "code",
   "execution_count": 3,
   "id": "857667c6",
   "metadata": {},
   "outputs": [
    {
     "data": {
      "text/plain": [
       "MicromagneticProperties(Ms_0=SpontaneousMagnetization(value=1280000.0, unit=A / m), K1_0=UniaxialAnisotropyConstant(value=4300000.0, unit=J / m3))"
      ]
     },
     "execution_count": 3,
     "metadata": {},
     "output_type": "execute_result"
    }
   ],
   "source": [
    "results_dft"
   ]
  },
  {
   "cell_type": "code",
   "execution_count": 4,
   "id": "73a7d885",
   "metadata": {},
   "outputs": [
    {
     "data": {
      "text/latex": [
       "SpontaneousMagnetization(value=1280000.0, unit=A / m)"
      ],
      "text/plain": [
       "SpontaneousMagnetization(value=1280000.0, unit=A / m)"
      ]
     },
     "execution_count": 4,
     "metadata": {},
     "output_type": "execute_result"
    }
   ],
   "source": [
    "results_dft.Ms_0"
   ]
  },
  {
   "cell_type": "code",
   "execution_count": 5,
   "id": "1b2ba1eb",
   "metadata": {},
   "outputs": [
    {
     "data": {
      "text/latex": [
       "UniaxialAnisotropyConstant(value=4300000.0, unit=J / m3)"
      ],
      "text/plain": [
       "UniaxialAnisotropyConstant(value=4300000.0, unit=J / m3)"
      ]
     },
     "execution_count": 5,
     "metadata": {},
     "output_type": "execute_result"
    }
   ],
   "source": [
    "results_dft.K1_0"
   ]
  },
  {
   "cell_type": "markdown",
   "id": "a7256b21",
   "metadata": {},
   "source": [
    "## 2: Temperature-dependent magnetisation data from spindynamics database lookup"
   ]
  },
  {
   "cell_type": "code",
   "execution_count": 6,
   "id": "61c7e5fa",
   "metadata": {},
   "outputs": [],
   "source": [
    "magnetisation_data = mammos_spindynamics.db.get_spontaneous_magnetisation(\"Co2Fe2H4-194\")"
   ]
  },
  {
   "cell_type": "markdown",
   "id": "0e538e55",
   "metadata": {},
   "source": [
    "In the second step we use a spin dynamics calculation database. We load some points for the temperature-dependent magnetisation."
   ]
  },
  {
   "cell_type": "code",
   "execution_count": 7,
   "id": "a4ba6bb2",
   "metadata": {},
   "outputs": [
    {
     "data": {
      "text/html": [
       "<div>\n",
       "<style scoped>\n",
       "    .dataframe tbody tr th:only-of-type {\n",
       "        vertical-align: middle;\n",
       "    }\n",
       "\n",
       "    .dataframe tbody tr th {\n",
       "        vertical-align: top;\n",
       "    }\n",
       "\n",
       "    .dataframe thead th {\n",
       "        text-align: right;\n",
       "    }\n",
       "</style>\n",
       "<table border=\"1\" class=\"dataframe\">\n",
       "  <thead>\n",
       "    <tr style=\"text-align: right;\">\n",
       "      <th></th>\n",
       "      <th>T[K]</th>\n",
       "      <th>M[A/m]</th>\n",
       "    </tr>\n",
       "  </thead>\n",
       "  <tbody>\n",
       "    <tr>\n",
       "      <th>0</th>\n",
       "      <td>0</td>\n",
       "      <td>1.190240e+06</td>\n",
       "    </tr>\n",
       "    <tr>\n",
       "      <th>1</th>\n",
       "      <td>20</td>\n",
       "      <td>1.160762e+06</td>\n",
       "    </tr>\n",
       "    <tr>\n",
       "      <th>2</th>\n",
       "      <td>40</td>\n",
       "      <td>1.152765e+06</td>\n",
       "    </tr>\n",
       "    <tr>\n",
       "      <th>3</th>\n",
       "      <td>60</td>\n",
       "      <td>1.144332e+06</td>\n",
       "    </tr>\n",
       "    <tr>\n",
       "      <th>4</th>\n",
       "      <td>80</td>\n",
       "      <td>1.136095e+06</td>\n",
       "    </tr>\n",
       "    <tr>\n",
       "      <th>...</th>\n",
       "      <td>...</td>\n",
       "      <td>...</td>\n",
       "    </tr>\n",
       "    <tr>\n",
       "      <th>76</th>\n",
       "      <td>1520</td>\n",
       "      <td>7.129165e+03</td>\n",
       "    </tr>\n",
       "    <tr>\n",
       "      <th>77</th>\n",
       "      <td>1540</td>\n",
       "      <td>6.674613e+03</td>\n",
       "    </tr>\n",
       "    <tr>\n",
       "      <th>78</th>\n",
       "      <td>1560</td>\n",
       "      <td>6.599177e+03</td>\n",
       "    </tr>\n",
       "    <tr>\n",
       "      <th>79</th>\n",
       "      <td>1580</td>\n",
       "      <td>6.616132e+03</td>\n",
       "    </tr>\n",
       "    <tr>\n",
       "      <th>80</th>\n",
       "      <td>1600</td>\n",
       "      <td>1.248421e+04</td>\n",
       "    </tr>\n",
       "  </tbody>\n",
       "</table>\n",
       "<p>81 rows × 2 columns</p>\n",
       "</div>"
      ],
      "text/plain": [
       "    T[K]        M[A/m]\n",
       "0      0  1.190240e+06\n",
       "1     20  1.160762e+06\n",
       "2     40  1.152765e+06\n",
       "3     60  1.144332e+06\n",
       "4     80  1.136095e+06\n",
       "..   ...           ...\n",
       "76  1520  7.129165e+03\n",
       "77  1540  6.674613e+03\n",
       "78  1560  6.599177e+03\n",
       "79  1580  6.616132e+03\n",
       "80  1600  1.248421e+04\n",
       "\n",
       "[81 rows x 2 columns]"
      ]
     },
     "execution_count": 7,
     "metadata": {},
     "output_type": "execute_result"
    }
   ],
   "source": [
    "magnetisation_data.dataframe"
   ]
  },
  {
   "cell_type": "code",
   "execution_count": 8,
   "id": "330b3e99",
   "metadata": {},
   "outputs": [
    {
     "data": {
      "text/latex": [
       "ThermodynamicTemperature(value=[   0.   20.   40.   60.   80.  100.  120.  140.  160.  180.  200.  220.\n",
       "  240.  260.  280.  300.  320.  340.  360.  380.  400.  420.  440.  460.\n",
       "  480.  500.  520.  540.  560.  580.  600.  620.  640.  660.  680.  700.\n",
       "  720.  740.  760.  780.  800.  820.  840.  860.  880.  900.  920.  940.\n",
       "  960.  980. 1000. 1020. 1040. 1060. 1080. 1100. 1120. 1140. 1160. 1180.\n",
       " 1200. 1220. 1240. 1260. 1280. 1300. 1320. 1340. 1360. 1380. 1400. 1420.\n",
       " 1440. 1460. 1480. 1500. 1520. 1540. 1560. 1580. 1600.], unit=K)"
      ],
      "text/plain": [
       "ThermodynamicTemperature(value=[   0.   20.   40.   60.   80.  100.  120.  140.  160.  180.  200.  220.\n",
       "  240.  260.  280.  300.  320.  340.  360.  380.  400.  420.  440.  460.\n",
       "  480.  500.  520.  540.  560.  580.  600.  620.  640.  660.  680.  700.\n",
       "  720.  740.  760.  780.  800.  820.  840.  860.  880.  900.  920.  940.\n",
       "  960.  980. 1000. 1020. 1040. 1060. 1080. 1100. 1120. 1140. 1160. 1180.\n",
       " 1200. 1220. 1240. 1260. 1280. 1300. 1320. 1340. 1360. 1380. 1400. 1420.\n",
       " 1440. 1460. 1480. 1500. 1520. 1540. 1560. 1580. 1600.], unit=K)"
      ]
     },
     "execution_count": 8,
     "metadata": {},
     "output_type": "execute_result"
    }
   ],
   "source": [
    "magnetisation_data.T"
   ]
  },
  {
   "cell_type": "code",
   "execution_count": 9,
   "id": "f17bad99",
   "metadata": {},
   "outputs": [
    {
     "data": {
      "text/latex": [
       "SpontaneousMagnetization(value=[1190240.2412648  1160762.15152728 1152764.540031   1144332.38021977\n",
       " 1136095.4237953  1128134.37709324 1119860.36127139 1111776.43793683\n",
       " 1102918.50364088 1094392.01798628 1085670.06372291 1076778.81897829\n",
       " 1067425.28513189 1057970.97409635 1048538.21055569 1039913.8221449\n",
       " 1029517.07701433 1019718.19960104 1010212.40682623 1000827.01766803\n",
       "  990071.55620798  977847.7971226   967365.03404838  957943.74673504\n",
       "  945368.08824221  933306.33678552  924042.80638082  911156.5370935\n",
       "  898923.20851189  886959.86875088  874610.18656417  859777.5032481\n",
       "  846674.7339648   833341.85234593  817215.36597138  802915.55664802\n",
       "  788770.83767705  767322.55015624  749504.37038855  733715.25355713\n",
       "  716555.57268794  695546.66554008  675931.69422208  650394.96667178\n",
       "  623964.15571257  595267.15471822  574337.71381396  540677.01870906\n",
       "  506480.06838947  465749.37929254  419581.94398809  363556.9147052\n",
       "  283780.87532889  116330.7659029    45920.08375439   28204.38382936\n",
       "   22252.02685696   18336.06448858   16018.35637159   14232.77360447\n",
       "   13649.49689592   12290.85695223   11386.3050879    10781.61435564\n",
       "   10306.54019184    9665.93883184    9395.09234065    8975.25861354\n",
       "    8438.06343775    8343.59372938    8102.70528087    7747.89846694\n",
       "    7593.11190125    7321.35684554    7307.02274373    7047.92251168\n",
       "    7129.16483945    6674.61311621    6599.17726486    6616.13202518\n",
       "   12484.21016472], unit=A / m)"
      ],
      "text/plain": [
       "SpontaneousMagnetization(value=[1190240.2412648  1160762.15152728 1152764.540031   1144332.38021977\n",
       " 1136095.4237953  1128134.37709324 1119860.36127139 1111776.43793683\n",
       " 1102918.50364088 1094392.01798628 1085670.06372291 1076778.81897829\n",
       " 1067425.28513189 1057970.97409635 1048538.21055569 1039913.8221449\n",
       " 1029517.07701433 1019718.19960104 1010212.40682623 1000827.01766803\n",
       "  990071.55620798  977847.7971226   967365.03404838  957943.74673504\n",
       "  945368.08824221  933306.33678552  924042.80638082  911156.5370935\n",
       "  898923.20851189  886959.86875088  874610.18656417  859777.5032481\n",
       "  846674.7339648   833341.85234593  817215.36597138  802915.55664802\n",
       "  788770.83767705  767322.55015624  749504.37038855  733715.25355713\n",
       "  716555.57268794  695546.66554008  675931.69422208  650394.96667178\n",
       "  623964.15571257  595267.15471822  574337.71381396  540677.01870906\n",
       "  506480.06838947  465749.37929254  419581.94398809  363556.9147052\n",
       "  283780.87532889  116330.7659029    45920.08375439   28204.38382936\n",
       "   22252.02685696   18336.06448858   16018.35637159   14232.77360447\n",
       "   13649.49689592   12290.85695223   11386.3050879    10781.61435564\n",
       "   10306.54019184    9665.93883184    9395.09234065    8975.25861354\n",
       "    8438.06343775    8343.59372938    8102.70528087    7747.89846694\n",
       "    7593.11190125    7321.35684554    7307.02274373    7047.92251168\n",
       "    7129.16483945    6674.61311621    6599.17726486    6616.13202518\n",
       "   12484.21016472], unit=A / m)"
      ]
     },
     "execution_count": 9,
     "metadata": {},
     "output_type": "execute_result"
    }
   ],
   "source": [
    "magnetisation_data.Ms"
   ]
  },
  {
   "cell_type": "markdown",
   "id": "c1699326",
   "metadata": {},
   "source": [
    "## 3: Calculate micromagnetic intrinsic properties using Kuz'min formula"
   ]
  },
  {
   "cell_type": "code",
   "execution_count": 10,
   "id": "e5ed6a92",
   "metadata": {},
   "outputs": [],
   "source": [
    "kuzmin_result = mammos_analysis.kuzmin(\n",
    "    T=magnetisation_data.T,\n",
    "    Ms=magnetisation_data.Ms,\n",
    "    K1_0=results_dft.K1_0\n",
    ")"
   ]
  },
  {
   "cell_type": "code",
   "execution_count": 11,
   "id": "b330ffde-5e56-498b-8b86-c4844cf38b08",
   "metadata": {},
   "outputs": [
    {
     "data": {
      "text/plain": [
       "KuzminResult(Ms=Ms(T), A=A(T), K1=K1(T))"
      ]
     },
     "execution_count": 11,
     "metadata": {},
     "output_type": "execute_result"
    }
   ],
   "source": [
    "kuzmin_result"
   ]
  },
  {
   "cell_type": "code",
   "execution_count": 12,
   "id": "791f2239-f629-406b-816c-ac4706f3a384",
   "metadata": {},
   "outputs": [
    {
     "data": {
      "text/plain": [
       "(A(T), mammos_analysis.kuzmin._A_function_of_temperature)"
      ]
     },
     "execution_count": 12,
     "metadata": {},
     "output_type": "execute_result"
    }
   ],
   "source": [
    "kuzmin_result.A, type(kuzmin_result.A)"
   ]
  },
  {
   "cell_type": "code",
   "execution_count": 13,
   "id": "6370a19d-2c27-4993-a1a2-51bc65f426b0",
   "metadata": {},
   "outputs": [
    {
     "data": {
      "text/plain": [
       "(K1(T), mammos_analysis.kuzmin._K1_function_of_temperature)"
      ]
     },
     "execution_count": 13,
     "metadata": {},
     "output_type": "execute_result"
    }
   ],
   "source": [
    "kuzmin_result.K1, type(kuzmin_result.K1)"
   ]
  },
  {
   "cell_type": "code",
   "execution_count": 14,
   "id": "8ddb2a09-3fb6-4e8b-88c9-1da3b9ae631d",
   "metadata": {},
   "outputs": [
    {
     "data": {
      "text/plain": [
       "(Ms(T), mammos_analysis.kuzmin._Ms_function_of_temperature)"
      ]
     },
     "execution_count": 14,
     "metadata": {},
     "output_type": "execute_result"
    }
   ],
   "source": [
    "kuzmin_result.Ms, type(kuzmin_result.Ms)"
   ]
  },
  {
   "cell_type": "code",
   "execution_count": 15,
   "id": "3ff869e7",
   "metadata": {},
   "outputs": [
    {
     "data": {
      "text/latex": [
       "ThermodynamicTemperature(value=300.0, unit=K)"
      ],
      "text/plain": [
       "ThermodynamicTemperature(value=300.0, unit=K)"
      ]
     },
     "execution_count": 15,
     "metadata": {},
     "output_type": "execute_result"
    }
   ],
   "source": [
    "T = me.Entity(\"ThermodynamicTemperature\", value=300, unit=\"K\")\n",
    "T"
   ]
  },
  {
   "cell_type": "code",
   "execution_count": 16,
   "id": "903e761e",
   "metadata": {},
   "outputs": [
    {
     "data": {
      "text/plain": [
       "(SpontaneousMagnetization(value=1083200.0171988958, unit=A / m),\n",
       " mammos_entity.base.Entity)"
      ]
     },
     "execution_count": 16,
     "metadata": {},
     "output_type": "execute_result"
    }
   ],
   "source": [
    "kuzmin_result.Ms(T), type(kuzmin_result.Ms(T))"
   ]
  },
  {
   "cell_type": "markdown",
   "id": "f7867930",
   "metadata": {},
   "source": [
    "## 4: Run micromagnetic simulation - Evaluate hysteresis loop"
   ]
  },
  {
   "cell_type": "code",
   "execution_count": 18,
   "id": "4e143880",
   "metadata": {},
   "outputs": [],
   "source": [
    "loop_results = mammos_mumag.hysteresis.run(\n",
    "    mesh_filepath=mammos_mumag.mesh.CUBE_20_nm,\n",
    "    Ms=kuzmin_result.Ms(T),\n",
    "    A=kuzmin_result.A(T),\n",
    "    K1=kuzmin_result.K1(T),\n",
    "    hstart=(7*u.T).to(u.A / u.m, equivalencies=u.magnetic_flux_field()),\n",
    "    hfinal=(-10*u.T).to(u.A / u.m, equivalencies=u.magnetic_flux_field()),\n",
    "    hnsteps=30,\n",
    ")"
   ]
  },
  {
   "cell_type": "markdown",
   "id": "a23fa182",
   "metadata": {},
   "source": [
    "The outputs from the hysteresis loop are:"
   ]
  },
  {
   "cell_type": "code",
   "execution_count": 19,
   "id": "474363a6",
   "metadata": {},
   "outputs": [
    {
     "data": {
      "text/html": [
       "<div>\n",
       "<style scoped>\n",
       "    .dataframe tbody tr th:only-of-type {\n",
       "        vertical-align: middle;\n",
       "    }\n",
       "\n",
       "    .dataframe tbody tr th {\n",
       "        vertical-align: top;\n",
       "    }\n",
       "\n",
       "    .dataframe thead th {\n",
       "        text-align: right;\n",
       "    }\n",
       "</style>\n",
       "<table border=\"1\" class=\"dataframe\">\n",
       "  <thead>\n",
       "    <tr style=\"text-align: right;\">\n",
       "      <th></th>\n",
       "      <th>idx</th>\n",
       "      <th>mu0_Hext</th>\n",
       "      <th>polarisation</th>\n",
       "      <th>E</th>\n",
       "    </tr>\n",
       "  </thead>\n",
       "  <tbody>\n",
       "    <tr>\n",
       "      <th>0</th>\n",
       "      <td>1</td>\n",
       "      <td>7.000000</td>\n",
       "      <td>1.361046</td>\n",
       "      <td>-1.059314e+07</td>\n",
       "    </tr>\n",
       "    <tr>\n",
       "      <th>1</th>\n",
       "      <td>1</td>\n",
       "      <td>6.433333</td>\n",
       "      <td>1.361033</td>\n",
       "      <td>-9.979396e+06</td>\n",
       "    </tr>\n",
       "    <tr>\n",
       "      <th>2</th>\n",
       "      <td>1</td>\n",
       "      <td>5.866667</td>\n",
       "      <td>1.361018</td>\n",
       "      <td>-9.365656e+06</td>\n",
       "    </tr>\n",
       "    <tr>\n",
       "      <th>3</th>\n",
       "      <td>1</td>\n",
       "      <td>5.300000</td>\n",
       "      <td>1.361001</td>\n",
       "      <td>-8.751924e+06</td>\n",
       "    </tr>\n",
       "    <tr>\n",
       "      <th>4</th>\n",
       "      <td>1</td>\n",
       "      <td>4.733333</td>\n",
       "      <td>1.360982</td>\n",
       "      <td>-8.138200e+06</td>\n",
       "    </tr>\n",
       "    <tr>\n",
       "      <th>5</th>\n",
       "      <td>1</td>\n",
       "      <td>4.166667</td>\n",
       "      <td>1.360959</td>\n",
       "      <td>-7.524485e+06</td>\n",
       "    </tr>\n",
       "    <tr>\n",
       "      <th>6</th>\n",
       "      <td>1</td>\n",
       "      <td>3.600000</td>\n",
       "      <td>1.360933</td>\n",
       "      <td>-6.910781e+06</td>\n",
       "    </tr>\n",
       "    <tr>\n",
       "      <th>7</th>\n",
       "      <td>1</td>\n",
       "      <td>3.033333</td>\n",
       "      <td>1.360901</td>\n",
       "      <td>-6.297090e+06</td>\n",
       "    </tr>\n",
       "    <tr>\n",
       "      <th>8</th>\n",
       "      <td>1</td>\n",
       "      <td>2.466667</td>\n",
       "      <td>1.360863</td>\n",
       "      <td>-5.683415e+06</td>\n",
       "    </tr>\n",
       "    <tr>\n",
       "      <th>9</th>\n",
       "      <td>1</td>\n",
       "      <td>1.900000</td>\n",
       "      <td>1.360817</td>\n",
       "      <td>-5.069759e+06</td>\n",
       "    </tr>\n",
       "    <tr>\n",
       "      <th>10</th>\n",
       "      <td>1</td>\n",
       "      <td>1.333333</td>\n",
       "      <td>1.360761</td>\n",
       "      <td>-4.456126e+06</td>\n",
       "    </tr>\n",
       "    <tr>\n",
       "      <th>11</th>\n",
       "      <td>1</td>\n",
       "      <td>0.766667</td>\n",
       "      <td>1.360691</td>\n",
       "      <td>-3.842521e+06</td>\n",
       "    </tr>\n",
       "    <tr>\n",
       "      <th>12</th>\n",
       "      <td>1</td>\n",
       "      <td>0.200000</td>\n",
       "      <td>1.360602</td>\n",
       "      <td>-3.228951e+06</td>\n",
       "    </tr>\n",
       "    <tr>\n",
       "      <th>13</th>\n",
       "      <td>1</td>\n",
       "      <td>-0.366667</td>\n",
       "      <td>1.360487</td>\n",
       "      <td>-2.615427e+06</td>\n",
       "    </tr>\n",
       "    <tr>\n",
       "      <th>14</th>\n",
       "      <td>1</td>\n",
       "      <td>-0.933333</td>\n",
       "      <td>1.360334</td>\n",
       "      <td>-2.001963e+06</td>\n",
       "    </tr>\n",
       "    <tr>\n",
       "      <th>15</th>\n",
       "      <td>1</td>\n",
       "      <td>-1.500000</td>\n",
       "      <td>1.360125</td>\n",
       "      <td>-1.388580e+06</td>\n",
       "    </tr>\n",
       "    <tr>\n",
       "      <th>16</th>\n",
       "      <td>1</td>\n",
       "      <td>-2.066667</td>\n",
       "      <td>1.359826</td>\n",
       "      <td>-7.753100e+05</td>\n",
       "    </tr>\n",
       "    <tr>\n",
       "      <th>17</th>\n",
       "      <td>1</td>\n",
       "      <td>-2.633333</td>\n",
       "      <td>1.359380</td>\n",
       "      <td>-1.622048e+05</td>\n",
       "    </tr>\n",
       "    <tr>\n",
       "      <th>18</th>\n",
       "      <td>1</td>\n",
       "      <td>-3.200000</td>\n",
       "      <td>1.358665</td>\n",
       "      <td>4.506449e+05</td>\n",
       "    </tr>\n",
       "    <tr>\n",
       "      <th>19</th>\n",
       "      <td>1</td>\n",
       "      <td>-3.766667</td>\n",
       "      <td>1.357402</td>\n",
       "      <td>1.063065e+06</td>\n",
       "    </tr>\n",
       "    <tr>\n",
       "      <th>20</th>\n",
       "      <td>1</td>\n",
       "      <td>-4.333333</td>\n",
       "      <td>1.354786</td>\n",
       "      <td>1.674661e+06</td>\n",
       "    </tr>\n",
       "    <tr>\n",
       "      <th>21</th>\n",
       "      <td>1</td>\n",
       "      <td>-4.900000</td>\n",
       "      <td>1.347030</td>\n",
       "      <td>2.284229e+06</td>\n",
       "    </tr>\n",
       "    <tr>\n",
       "      <th>22</th>\n",
       "      <td>2</td>\n",
       "      <td>-5.466667</td>\n",
       "      <td>-1.361007</td>\n",
       "      <td>-8.932433e+06</td>\n",
       "    </tr>\n",
       "  </tbody>\n",
       "</table>\n",
       "</div>"
      ],
      "text/plain": [
       "    idx  mu0_Hext  polarisation             E\n",
       "0     1  7.000000      1.361046 -1.059314e+07\n",
       "1     1  6.433333      1.361033 -9.979396e+06\n",
       "2     1  5.866667      1.361018 -9.365656e+06\n",
       "3     1  5.300000      1.361001 -8.751924e+06\n",
       "4     1  4.733333      1.360982 -8.138200e+06\n",
       "5     1  4.166667      1.360959 -7.524485e+06\n",
       "6     1  3.600000      1.360933 -6.910781e+06\n",
       "7     1  3.033333      1.360901 -6.297090e+06\n",
       "8     1  2.466667      1.360863 -5.683415e+06\n",
       "9     1  1.900000      1.360817 -5.069759e+06\n",
       "10    1  1.333333      1.360761 -4.456126e+06\n",
       "11    1  0.766667      1.360691 -3.842521e+06\n",
       "12    1  0.200000      1.360602 -3.228951e+06\n",
       "13    1 -0.366667      1.360487 -2.615427e+06\n",
       "14    1 -0.933333      1.360334 -2.001963e+06\n",
       "15    1 -1.500000      1.360125 -1.388580e+06\n",
       "16    1 -2.066667      1.359826 -7.753100e+05\n",
       "17    1 -2.633333      1.359380 -1.622048e+05\n",
       "18    1 -3.200000      1.358665  4.506449e+05\n",
       "19    1 -3.766667      1.357402  1.063065e+06\n",
       "20    1 -4.333333      1.354786  1.674661e+06\n",
       "21    1 -4.900000      1.347030  2.284229e+06\n",
       "22    2 -5.466667     -1.361007 -8.932433e+06"
      ]
     },
     "execution_count": 19,
     "metadata": {},
     "output_type": "execute_result"
    }
   ],
   "source": [
    "loop_results.dataframe"
   ]
  },
  {
   "cell_type": "code",
   "execution_count": 20,
   "id": "db47e7fe",
   "metadata": {},
   "outputs": [
    {
     "data": {
      "text/latex": [
       "ExternalMagneticField(value=[ 5570423.00518393  5119484.00000238  4668544.99482082  4217605.98963926\n",
       "  3766666.98445771  3315727.97927615  2864788.9740946   2413849.96891304\n",
       "  1962910.96373148  1511971.95854993  1061032.95336837   610093.94818681\n",
       "   159154.94300526  -291784.0621763   -742723.06735786 -1193662.07253941\n",
       " -1644601.07772097 -2095540.08290253 -2546479.08808408 -2997418.09326564\n",
       " -3448357.09844719 -3899296.10362875 -4350235.10881031], unit=A / m)"
      ],
      "text/plain": [
       "ExternalMagneticField(value=[ 5570423.00518393  5119484.00000238  4668544.99482082  4217605.98963926\n",
       "  3766666.98445771  3315727.97927615  2864788.9740946   2413849.96891304\n",
       "  1962910.96373148  1511971.95854993  1061032.95336837   610093.94818681\n",
       "   159154.94300526  -291784.0621763   -742723.06735786 -1193662.07253941\n",
       " -1644601.07772097 -2095540.08290253 -2546479.08808408 -2997418.09326564\n",
       " -3448357.09844719 -3899296.10362875 -4350235.10881031], unit=A / m)"
      ]
     },
     "execution_count": 20,
     "metadata": {},
     "output_type": "execute_result"
    }
   ],
   "source": [
    "loop_results.H"
   ]
  },
  {
   "cell_type": "code",
   "execution_count": 21,
   "id": "2f1cfd74",
   "metadata": {},
   "outputs": [
    {
     "data": {
      "text/latex": [
       "SpontaneousMagnetization(value=[ 1.36104574  1.36103288  1.36101819  1.36100133  1.36098185  1.36095916\n",
       "  1.36093251  1.36090094  1.36086315  1.36081737  1.36076117  1.36069114\n",
       "  1.36060228  1.36048715  1.36033418  1.3601246   1.35982617  1.35937954\n",
       "  1.35866451  1.35740223  1.35478639  1.34702993 -1.36100654], unit=T)"
      ],
      "text/plain": [
       "SpontaneousMagnetization(value=[ 1.36104574  1.36103288  1.36101819  1.36100133  1.36098185  1.36095916\n",
       "  1.36093251  1.36090094  1.36086315  1.36081737  1.36076117  1.36069114\n",
       "  1.36060228  1.36048715  1.36033418  1.3601246   1.35982617  1.35937954\n",
       "  1.35866451  1.35740223  1.35478639  1.34702993 -1.36100654], unit=T)"
      ]
     },
     "execution_count": 21,
     "metadata": {},
     "output_type": "execute_result"
    }
   ],
   "source": [
    "loop_results.M"
   ]
  },
  {
   "cell_type": "code",
   "execution_count": 22,
   "id": "40b5d62b",
   "metadata": {},
   "outputs": [
    {
     "data": {
      "text/latex": [
       "EnergyDensity(value=[-10593141.70038446  -9979395.92495052  -9365656.34957104\n",
       "  -8751923.87099064  -8138199.56807237  -7524484.75060708\n",
       "  -6910781.02475024  -6297090.382104    -5683415.32307882\n",
       "  -5069759.03102617  -4456125.62340659  -3842520.52307765\n",
       "  -3228951.02286315  -2615427.17264795  -2001963.22815391\n",
       "  -1388580.12923425   -775309.98666853   -162204.8069432\n",
       "    450644.87586112   1063064.67175376   1674661.48979254\n",
       "   2284228.73940302  -8932432.62706742], unit=J / m3)"
      ],
      "text/plain": [
       "EnergyDensity(value=[-10593141.70038446  -9979395.92495052  -9365656.34957104\n",
       "  -8751923.87099064  -8138199.56807237  -7524484.75060708\n",
       "  -6910781.02475024  -6297090.382104    -5683415.32307882\n",
       "  -5069759.03102617  -4456125.62340659  -3842520.52307765\n",
       "  -3228951.02286315  -2615427.17264795  -2001963.22815391\n",
       "  -1388580.12923425   -775309.98666853   -162204.8069432\n",
       "    450644.87586112   1063064.67175376   1674661.48979254\n",
       "   2284228.73940302  -8932432.62706742], unit=J / m3)"
      ]
     },
     "execution_count": 22,
     "metadata": {},
     "output_type": "execute_result"
    }
   ],
   "source": [
    "loop_results.EnergyDensity"
   ]
  },
  {
   "cell_type": "markdown",
   "id": "b08458bb",
   "metadata": {},
   "source": [
    "We can generate a table in Tesla:"
   ]
  },
  {
   "cell_type": "code",
   "execution_count": 25,
   "id": "89a262bf",
   "metadata": {},
   "outputs": [
    {
     "data": {
      "text/html": [
       "<div>\n",
       "<style scoped>\n",
       "    .dataframe tbody tr th:only-of-type {\n",
       "        vertical-align: middle;\n",
       "    }\n",
       "\n",
       "    .dataframe tbody tr th {\n",
       "        vertical-align: top;\n",
       "    }\n",
       "\n",
       "    .dataframe thead th {\n",
       "        text-align: right;\n",
       "    }\n",
       "</style>\n",
       "<table border=\"1\" class=\"dataframe\">\n",
       "  <thead>\n",
       "    <tr style=\"text-align: right;\">\n",
       "      <th></th>\n",
       "      <th>mu0_H</th>\n",
       "      <th>J</th>\n",
       "      <th>EnergyDensity</th>\n",
       "    </tr>\n",
       "  </thead>\n",
       "  <tbody>\n",
       "    <tr>\n",
       "      <th>0</th>\n",
       "      <td>7.000000</td>\n",
       "      <td>1.361046</td>\n",
       "      <td>-1.059314e+07</td>\n",
       "    </tr>\n",
       "    <tr>\n",
       "      <th>1</th>\n",
       "      <td>6.433333</td>\n",
       "      <td>1.361033</td>\n",
       "      <td>-9.979396e+06</td>\n",
       "    </tr>\n",
       "    <tr>\n",
       "      <th>2</th>\n",
       "      <td>5.866667</td>\n",
       "      <td>1.361018</td>\n",
       "      <td>-9.365656e+06</td>\n",
       "    </tr>\n",
       "    <tr>\n",
       "      <th>3</th>\n",
       "      <td>5.300000</td>\n",
       "      <td>1.361001</td>\n",
       "      <td>-8.751924e+06</td>\n",
       "    </tr>\n",
       "    <tr>\n",
       "      <th>4</th>\n",
       "      <td>4.733333</td>\n",
       "      <td>1.360982</td>\n",
       "      <td>-8.138200e+06</td>\n",
       "    </tr>\n",
       "    <tr>\n",
       "      <th>5</th>\n",
       "      <td>4.166667</td>\n",
       "      <td>1.360959</td>\n",
       "      <td>-7.524485e+06</td>\n",
       "    </tr>\n",
       "    <tr>\n",
       "      <th>6</th>\n",
       "      <td>3.600000</td>\n",
       "      <td>1.360933</td>\n",
       "      <td>-6.910781e+06</td>\n",
       "    </tr>\n",
       "    <tr>\n",
       "      <th>7</th>\n",
       "      <td>3.033333</td>\n",
       "      <td>1.360901</td>\n",
       "      <td>-6.297090e+06</td>\n",
       "    </tr>\n",
       "    <tr>\n",
       "      <th>8</th>\n",
       "      <td>2.466667</td>\n",
       "      <td>1.360863</td>\n",
       "      <td>-5.683415e+06</td>\n",
       "    </tr>\n",
       "    <tr>\n",
       "      <th>9</th>\n",
       "      <td>1.900000</td>\n",
       "      <td>1.360817</td>\n",
       "      <td>-5.069759e+06</td>\n",
       "    </tr>\n",
       "  </tbody>\n",
       "</table>\n",
       "</div>"
      ],
      "text/plain": [
       "      mu0_H         J  EnergyDensity\n",
       "0  7.000000  1.361046  -1.059314e+07\n",
       "1  6.433333  1.361033  -9.979396e+06\n",
       "2  5.866667  1.361018  -9.365656e+06\n",
       "3  5.300000  1.361001  -8.751924e+06\n",
       "4  4.733333  1.360982  -8.138200e+06\n",
       "5  4.166667  1.360959  -7.524485e+06\n",
       "6  3.600000  1.360933  -6.910781e+06\n",
       "7  3.033333  1.360901  -6.297090e+06\n",
       "8  2.466667  1.360863  -5.683415e+06\n",
       "9  1.900000  1.360817  -5.069759e+06"
      ]
     },
     "execution_count": 25,
     "metadata": {},
     "output_type": "execute_result"
    }
   ],
   "source": [
    "import pandas as pd\n",
    "\n",
    "u.set_enabled_equivalencies(u.magnetic_flux_field())\n",
    "pd.DataFrame(\n",
    "    {\n",
    "        \"mu0_H\": loop_results.H.to(u.T),\n",
    "        \"J\": loop_results.M.to(u.T),\n",
    "        \"EnergyDensity\": loop_results.EnergyDensity,\n",
    "    }\n",
    ").head(10)"
   ]
  },
  {
   "cell_type": "code",
   "execution_count": 26,
   "id": "a628f093",
   "metadata": {},
   "outputs": [
    {
     "data": {
      "image/png": "[encoded data removed]",
      "text/plain": [
       "<Figure size 640x480 with 1 Axes>"
      ]
     },
     "metadata": {},
     "output_type": "display_data"
    }
   ],
   "source": [
    "loop_results.plot(configuration_marks=True)"
   ]
  },
  {
   "cell_type": "code",
   "execution_count": 27,
   "id": "cb472635",
   "metadata": {},
   "outputs": [
    {
     "data": {
      "text/plain": [
       "[PosixPath('/home/petrocch/Seafile/programming/mammos/workflow/8/hystloop/hystloop_0001.vtu'),\n",
       " PosixPath('/home/petrocch/Seafile/programming/mammos/workflow/8/hystloop/hystloop_0002.vtu')]"
      ]
     },
     "execution_count": 27,
     "metadata": {},
     "output_type": "execute_result"
    }
   ],
   "source": [
    "loop_results.configurations"
   ]
  },
  {
   "cell_type": "code",
   "execution_count": 28,
   "id": "c7883fb6",
   "metadata": {},
   "outputs": [
    {
     "data": {
      "application/vnd.jupyter.widget-view+json": {
       "model_id": "11e2f9ff4431414684611316a44e2a27",
       "version_major": 2,
       "version_minor": 0
      },
      "text/plain": [
       "Widget(value='<iframe src=\"http://localhost:45667/index.html?ui=P_0x7fd12bb003d0_0&reconnect=auto\" class=\"pyvi…"
      ]
     },
     "metadata": {},
     "output_type": "display_data"
    }
   ],
   "source": [
    "loop_results.plot_configuration(0)"
   ]
  },
  {
   "cell_type": "markdown",
   "id": "adee7ed9",
   "metadata": {},
   "source": [
    "We can extract the extrinsic properties with the `extrinsic_properties` function from the `mammos_analysis` package:"
   ]
  },
  {
   "cell_type": "code",
   "execution_count": 29,
   "id": "16f686ff",
   "metadata": {},
   "outputs": [],
   "source": [
    "extrinsic_properties = mammos_analysis.hysteresis.extrinsic_properties(\n",
    "    loop_results.M,\n",
    "    loop_results.H\n",
    ")"
   ]
  },
  {
   "cell_type": "code",
   "execution_count": 30,
   "id": "2948a08c",
   "metadata": {},
   "outputs": [
    {
     "data": {
      "text/latex": [
       "CoercivityHcExternal(value=-1082641.2760667547, unit=A / m)"
      ],
      "text/plain": [
       "CoercivityHcExternal(value=-1082641.2760667547, unit=A / m)"
      ]
     },
     "execution_count": 30,
     "metadata": {},
     "output_type": "execute_result"
    }
   ],
   "source": [
    "extrinsic_properties.Hc"
   ]
  },
  {
   "cell_type": "code",
   "execution_count": 31,
   "id": "8c674a7d",
   "metadata": {},
   "outputs": [
    {
     "data": {
      "text/latex": [
       "Remanence(value=-4350235.108810307, unit=A / m)"
      ],
      "text/plain": [
       "Remanence(value=-4350235.108810307, unit=A / m)"
      ]
     },
     "execution_count": 31,
     "metadata": {},
     "output_type": "execute_result"
    }
   ],
   "source": [
    "extrinsic_properties.Mr"
   ]
  },
  {
   "cell_type": "code",
   "execution_count": 32,
   "id": "92fc3f9a",
   "metadata": {},
   "outputs": [
    {
     "data": {
      "text/latex": [
       "MaximumEnergyProduct(value=0.0, unit=J / m3)"
      ],
      "text/plain": [
       "MaximumEnergyProduct(value=0.0, unit=J / m3)"
      ]
     },
     "execution_count": 32,
     "metadata": {},
     "output_type": "execute_result"
    }
   ],
   "source": [
    "extrinsic_properties.BHmax"
   ]
  }
 ],
 "metadata": {
  "kernelspec": {
   "display_name": "default",
   "language": "python",
   "name": "python3"
  },
  "language_info": {
   "codemirror_mode": {
    "name": "ipython",
    "version": 3
   },
   "file_extension": ".py",
   "mimetype": "text/x-python",
   "name": "python",
   "nbconvert_exporter": "python",
   "pygments_lexer": "ipython3",
   "version": "3.11.12"
  }
 },
 "nbformat": 4,
 "nbformat_minor": 5
}

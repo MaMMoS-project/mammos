{
 "cells": [
  {
   "cell_type": "markdown",
   "id": "6f55f51b",
   "metadata": {},
   "source": [
    "# Workflow"
   ]
  },
  {
   "cell_type": "code",
   "execution_count": 1,
   "id": "2ee01e2d",
   "metadata": {},
   "outputs": [
    {
     "data": {
      "text/plain": [
       "<astropy.units.core._UnitContext at 0x7f37ab0dad50>"
      ]
     },
     "execution_count": 1,
     "metadata": {},
     "output_type": "execute_result"
    }
   ],
   "source": [
    "import matplotlib.pyplot as plt\n",
    "import numpy as np\n",
    "import pandas as pd\n",
    "\n",
    "import mammos_analysis\n",
    "import mammos_dft\n",
    "import mammos_spindynamics\n",
    "import mammos_mumag\n",
    "import mammos_entity as me\n",
    "import mammos_units as u\n",
    "\n",
    "u.set_enabled_equivalencies(u.magnetic_flux_field())"
   ]
  },
  {
   "cell_type": "markdown",
   "id": "eff2974e",
   "metadata": {},
   "source": [
    "## 1: DFT data: magnetisation and anisotropy at zero Kelvin"
   ]
  },
  {
   "cell_type": "code",
   "execution_count": 2,
   "id": "6de4d152",
   "metadata": {},
   "outputs": [
    {
     "data": {
      "text/html": [
       "<pre style=\"white-space:pre;overflow-x:auto;line-height:normal;font-family:Menlo,'DejaVu Sans Mono',consolas,'Courier New',monospace\">Found material in database.\n",
       "</pre>\n"
      ],
      "text/plain": [
       "Found material in database.\n"
      ]
     },
     "metadata": {},
     "output_type": "display_data"
    },
    {
     "data": {
      "text/html": [
       "<pre style=\"white-space:pre;overflow-x:auto;line-height:normal;font-family:Menlo,'DejaVu Sans Mono',consolas,'Courier New',monospace\">\n",
       "Chemical Formula: Nd2Fe14B\n",
       "Space group name: P42/mnm\n",
       "Space group number: <span style=\"color: #008080; text-decoration-color: #008080; font-weight: bold\">136</span>\n",
       "Cell length a: <span style=\"color: #008080; text-decoration-color: #008080; font-weight: bold\">8.78</span> Angstrom\n",
       "Cell length b: <span style=\"color: #008080; text-decoration-color: #008080; font-weight: bold\">8.78</span> Angstrom\n",
       "Cell length c: <span style=\"color: #008080; text-decoration-color: #008080; font-weight: bold\">12.12</span> Angstrom\n",
       "Cell angle alpha: <span style=\"color: #008080; text-decoration-color: #008080; font-weight: bold\">90.0</span> deg\n",
       "Cell angle beta: <span style=\"color: #008080; text-decoration-color: #008080; font-weight: bold\">90.0</span> deg\n",
       "Cell angle gamma: <span style=\"color: #008080; text-decoration-color: #008080; font-weight: bold\">90.0</span> deg\n",
       "Cell volume: <span style=\"color: #008080; text-decoration-color: #008080; font-weight: bold\">933.42</span> Angstrom\n",
       "ICSD_label: \n",
       "OQMD_label: \n",
       "\n",
       "</pre>\n"
      ],
      "text/plain": [
       "\n",
       "Chemical Formula: Nd2Fe14B\n",
       "Space group name: P42/mnm\n",
       "Space group number: \u001b[1;36m136\u001b[0m\n",
       "Cell length a: \u001b[1;36m8.78\u001b[0m Angstrom\n",
       "Cell length b: \u001b[1;36m8.78\u001b[0m Angstrom\n",
       "Cell length c: \u001b[1;36m12.12\u001b[0m Angstrom\n",
       "Cell angle alpha: \u001b[1;36m90.0\u001b[0m deg\n",
       "Cell angle beta: \u001b[1;36m90.0\u001b[0m deg\n",
       "Cell angle gamma: \u001b[1;36m90.0\u001b[0m deg\n",
       "Cell volume: \u001b[1;36m933.42\u001b[0m Angstrom\n",
       "ICSD_label: \n",
       "OQMD_label: \n",
       "\n"
      ]
     },
     "metadata": {},
     "output_type": "display_data"
    }
   ],
   "source": [
    "results_dft = mammos_dft.db.get_micromagnetic_properties(\"Nd2Fe14B-136\", print_info=True)"
   ]
  },
  {
   "cell_type": "markdown",
   "id": "da62070c",
   "metadata": {},
   "source": [
    "The first step loads spontaneous magnetisation $M_s$ and the uniaxial anisotropy constant $K_1$ from a database of DFT calculations."
   ]
  },
  {
   "cell_type": "code",
   "execution_count": 3,
   "id": "857667c6",
   "metadata": {},
   "outputs": [
    {
     "data": {
      "text/plain": [
       "MicromagneticProperties(Ms_0=SpontaneousMagnetization(value=1280000.0, unit=A / m), K1_0=UniaxialAnisotropyConstant(value=4300000.0, unit=J / m3))"
      ]
     },
     "execution_count": 3,
     "metadata": {},
     "output_type": "execute_result"
    }
   ],
   "source": [
    "results_dft"
   ]
  },
  {
   "cell_type": "code",
   "execution_count": 4,
   "id": "73a7d885",
   "metadata": {},
   "outputs": [
    {
     "data": {
      "text/latex": [
       "SpontaneousMagnetization(value=1280000.0, unit=A / m)"
      ],
      "text/plain": [
       "SpontaneousMagnetization(value=1280000.0, unit=A / m)"
      ]
     },
     "execution_count": 4,
     "metadata": {},
     "output_type": "execute_result"
    }
   ],
   "source": [
    "results_dft.Ms_0"
   ]
  },
  {
   "cell_type": "code",
   "execution_count": 5,
   "id": "1b2ba1eb",
   "metadata": {},
   "outputs": [
    {
     "data": {
      "text/latex": [
       "UniaxialAnisotropyConstant(value=4300000.0, unit=J / m3)"
      ],
      "text/plain": [
       "UniaxialAnisotropyConstant(value=4300000.0, unit=J / m3)"
      ]
     },
     "execution_count": 5,
     "metadata": {},
     "output_type": "execute_result"
    }
   ],
   "source": [
    "results_dft.K1_0"
   ]
  },
  {
   "cell_type": "markdown",
   "id": "a7256b21",
   "metadata": {},
   "source": [
    "## 2: Temperature-dependent magnetisation data from spindynamics database lookup"
   ]
  },
  {
   "cell_type": "code",
   "execution_count": 6,
   "id": "61c7e5fa",
   "metadata": {},
   "outputs": [],
   "source": [
    "magnetisation_data = mammos_spindynamics.db.get_spontaneous_magnetisation(\"Nd2Fe14B-136\")"
   ]
  },
  {
   "cell_type": "markdown",
   "id": "0e538e55",
   "metadata": {},
   "source": [
    "In the second step we use a spin dynamics calculation database. We load some points for the temperature-dependent magnetisation."
   ]
  },
  {
   "cell_type": "code",
   "execution_count": 7,
   "id": "330b3e99",
   "metadata": {},
   "outputs": [
    {
     "data": {
      "text/latex": [
       "ThermodynamicTemperature(value=[  0.          31.57894737  63.15789474  94.73684211 126.31578947\n",
       " 157.89473684 189.47368421 221.05263158 252.63157895 284.21052632\n",
       " 315.78947368 347.36842105 378.94736842 410.52631579 442.10526316\n",
       " 473.68421053 505.26315789 536.84210526 568.42105263 600.        ], unit=K)"
      ],
      "text/plain": [
       "ThermodynamicTemperature(value=[  0.          31.57894737  63.15789474  94.73684211 126.31578947\n",
       " 157.89473684 189.47368421 221.05263158 252.63157895 284.21052632\n",
       " 315.78947368 347.36842105 378.94736842 410.52631579 442.10526316\n",
       " 473.68421053 505.26315789 536.84210526 568.42105263 600.        ], unit=K)"
      ]
     },
     "execution_count": 7,
     "metadata": {},
     "output_type": "execute_result"
    }
   ],
   "source": [
    "magnetisation_data.T"
   ]
  },
  {
   "cell_type": "code",
   "execution_count": 8,
   "id": "f17bad99",
   "metadata": {},
   "outputs": [
    {
     "data": {
      "text/latex": [
       "SpontaneousMagnetization(value=[1460000.         1456985.36046193 1449449.93657199 1437972.77253639\n",
       " 1422736.58364638 1403779.39648225 1381044.11152378 1354391.97626968\n",
       " 1323600.99407897 1288353.67899904 1248213.31769096 1202584.11677895\n",
       " 1150645.20320241 1091237.80552561 1022660.54963577  942263.95974459\n",
       "  845538.33920183  723617.755767    553555.21471405  171781.14820705], unit=A / m)"
      ],
      "text/plain": [
       "SpontaneousMagnetization(value=[1460000.         1456985.36046193 1449449.93657199 1437972.77253639\n",
       " 1422736.58364638 1403779.39648225 1381044.11152378 1354391.97626968\n",
       " 1323600.99407897 1288353.67899904 1248213.31769096 1202584.11677895\n",
       " 1150645.20320241 1091237.80552561 1022660.54963577  942263.95974459\n",
       "  845538.33920183  723617.755767    553555.21471405  171781.14820705], unit=A / m)"
      ]
     },
     "execution_count": 8,
     "metadata": {},
     "output_type": "execute_result"
    }
   ],
   "source": [
    "magnetisation_data.Ms"
   ]
  },
  {
   "cell_type": "code",
   "execution_count": 9,
   "id": "fb05a108",
   "metadata": {},
   "outputs": [
    {
     "data": {
      "text/plain": [
       "MagnetisationData(T=ThermodynamicTemperature(value=[  0.          31.57894737  63.15789474  94.73684211 126.31578947\n",
       " 157.89473684 189.47368421 221.05263158 252.63157895 284.21052632\n",
       " 315.78947368 347.36842105 378.94736842 410.52631579 442.10526316\n",
       " 473.68421053 505.26315789 536.84210526 568.42105263 600.        ], unit=K), Ms=SpontaneousMagnetization(value=[1460000.         1456985.36046193 1449449.93657199 1437972.77253639\n",
       " 1422736.58364638 1403779.39648225 1381044.11152378 1354391.97626968\n",
       " 1323600.99407897 1288353.67899904 1248213.31769096 1202584.11677895\n",
       " 1150645.20320241 1091237.80552561 1022660.54963577  942263.95974459\n",
       "  845538.33920183  723617.755767    553555.21471405  171781.14820705], unit=A / m))"
      ]
     },
     "execution_count": 9,
     "metadata": {},
     "output_type": "execute_result"
    }
   ],
   "source": [
    "mammos_spindynamics.db.get_spontaneous_magnetisation(\"Nd2Fe14B-136\")"
   ]
  },
  {
   "cell_type": "code",
   "execution_count": 10,
   "id": "a4ba6bb2",
   "metadata": {},
   "outputs": [
    {
     "data": {
      "text/html": [
       "<div>\n",
       "<style scoped>\n",
       "    .dataframe tbody tr th:only-of-type {\n",
       "        vertical-align: middle;\n",
       "    }\n",
       "\n",
       "    .dataframe tbody tr th {\n",
       "        vertical-align: top;\n",
       "    }\n",
       "\n",
       "    .dataframe thead th {\n",
       "        text-align: right;\n",
       "    }\n",
       "</style>\n",
       "<table border=\"1\" class=\"dataframe\">\n",
       "  <thead>\n",
       "    <tr style=\"text-align: right;\">\n",
       "      <th></th>\n",
       "      <th>T</th>\n",
       "      <th>Ms</th>\n",
       "    </tr>\n",
       "  </thead>\n",
       "  <tbody>\n",
       "    <tr>\n",
       "      <th>0</th>\n",
       "      <td>0.000000</td>\n",
       "      <td>1.460000e+06</td>\n",
       "    </tr>\n",
       "    <tr>\n",
       "      <th>1</th>\n",
       "      <td>31.578947</td>\n",
       "      <td>1.456985e+06</td>\n",
       "    </tr>\n",
       "    <tr>\n",
       "      <th>2</th>\n",
       "      <td>63.157895</td>\n",
       "      <td>1.449450e+06</td>\n",
       "    </tr>\n",
       "    <tr>\n",
       "      <th>3</th>\n",
       "      <td>94.736842</td>\n",
       "      <td>1.437973e+06</td>\n",
       "    </tr>\n",
       "    <tr>\n",
       "      <th>4</th>\n",
       "      <td>126.315789</td>\n",
       "      <td>1.422737e+06</td>\n",
       "    </tr>\n",
       "    <tr>\n",
       "      <th>5</th>\n",
       "      <td>157.894737</td>\n",
       "      <td>1.403779e+06</td>\n",
       "    </tr>\n",
       "    <tr>\n",
       "      <th>6</th>\n",
       "      <td>189.473684</td>\n",
       "      <td>1.381044e+06</td>\n",
       "    </tr>\n",
       "    <tr>\n",
       "      <th>7</th>\n",
       "      <td>221.052632</td>\n",
       "      <td>1.354392e+06</td>\n",
       "    </tr>\n",
       "    <tr>\n",
       "      <th>8</th>\n",
       "      <td>252.631579</td>\n",
       "      <td>1.323601e+06</td>\n",
       "    </tr>\n",
       "    <tr>\n",
       "      <th>9</th>\n",
       "      <td>284.210526</td>\n",
       "      <td>1.288354e+06</td>\n",
       "    </tr>\n",
       "    <tr>\n",
       "      <th>10</th>\n",
       "      <td>315.789474</td>\n",
       "      <td>1.248213e+06</td>\n",
       "    </tr>\n",
       "    <tr>\n",
       "      <th>11</th>\n",
       "      <td>347.368421</td>\n",
       "      <td>1.202584e+06</td>\n",
       "    </tr>\n",
       "    <tr>\n",
       "      <th>12</th>\n",
       "      <td>378.947368</td>\n",
       "      <td>1.150645e+06</td>\n",
       "    </tr>\n",
       "    <tr>\n",
       "      <th>13</th>\n",
       "      <td>410.526316</td>\n",
       "      <td>1.091238e+06</td>\n",
       "    </tr>\n",
       "    <tr>\n",
       "      <th>14</th>\n",
       "      <td>442.105263</td>\n",
       "      <td>1.022661e+06</td>\n",
       "    </tr>\n",
       "    <tr>\n",
       "      <th>15</th>\n",
       "      <td>473.684211</td>\n",
       "      <td>9.422640e+05</td>\n",
       "    </tr>\n",
       "    <tr>\n",
       "      <th>16</th>\n",
       "      <td>505.263158</td>\n",
       "      <td>8.455383e+05</td>\n",
       "    </tr>\n",
       "    <tr>\n",
       "      <th>17</th>\n",
       "      <td>536.842105</td>\n",
       "      <td>7.236178e+05</td>\n",
       "    </tr>\n",
       "    <tr>\n",
       "      <th>18</th>\n",
       "      <td>568.421053</td>\n",
       "      <td>5.535552e+05</td>\n",
       "    </tr>\n",
       "    <tr>\n",
       "      <th>19</th>\n",
       "      <td>600.000000</td>\n",
       "      <td>1.717811e+05</td>\n",
       "    </tr>\n",
       "  </tbody>\n",
       "</table>\n",
       "</div>"
      ],
      "text/plain": [
       "             T            Ms\n",
       "0     0.000000  1.460000e+06\n",
       "1    31.578947  1.456985e+06\n",
       "2    63.157895  1.449450e+06\n",
       "3    94.736842  1.437973e+06\n",
       "4   126.315789  1.422737e+06\n",
       "5   157.894737  1.403779e+06\n",
       "6   189.473684  1.381044e+06\n",
       "7   221.052632  1.354392e+06\n",
       "8   252.631579  1.323601e+06\n",
       "9   284.210526  1.288354e+06\n",
       "10  315.789474  1.248213e+06\n",
       "11  347.368421  1.202584e+06\n",
       "12  378.947368  1.150645e+06\n",
       "13  410.526316  1.091238e+06\n",
       "14  442.105263  1.022661e+06\n",
       "15  473.684211  9.422640e+05\n",
       "16  505.263158  8.455383e+05\n",
       "17  536.842105  7.236178e+05\n",
       "18  568.421053  5.535552e+05\n",
       "19  600.000000  1.717811e+05"
      ]
     },
     "execution_count": 10,
     "metadata": {},
     "output_type": "execute_result"
    }
   ],
   "source": [
    "magnetisation_data.dataframe"
   ]
  },
  {
   "cell_type": "code",
   "execution_count": 11,
   "id": "caede5a4",
   "metadata": {},
   "outputs": [
    {
     "data": {
      "text/plain": [
       "<Axes: xlabel='T'>"
      ]
     },
     "execution_count": 11,
     "metadata": {},
     "output_type": "execute_result"
    },
    {
     "data": {
      "image/png": "[encoded data removed]",
      "text/plain": [
       "<Figure size 640x480 with 1 Axes>"
      ]
     },
     "metadata": {},
     "output_type": "display_data"
    }
   ],
   "source": [
    "magnetisation_data.dataframe.plot(x=\"T\")"
   ]
  },
  {
   "cell_type": "markdown",
   "id": "c1699326",
   "metadata": {},
   "source": [
    "## 3: Calculate micromagnetic intrinsic properties using Kuz'min formula"
   ]
  },
  {
   "cell_type": "code",
   "execution_count": 12,
   "id": "e5ed6a92",
   "metadata": {},
   "outputs": [],
   "source": [
    "kuzmin_result = mammos_analysis.kuzmin_properties(\n",
    "    T=magnetisation_data.T,\n",
    "    Ms=magnetisation_data.Ms,\n",
    "    K1_0=results_dft.K1_0\n",
    ")"
   ]
  },
  {
   "cell_type": "code",
   "execution_count": 13,
   "id": "b330ffde-5e56-498b-8b86-c4844cf38b08",
   "metadata": {},
   "outputs": [
    {
     "data": {
      "text/plain": [
       "KuzminResult(Ms=Ms(T), A=A(T), K1=K1(T))"
      ]
     },
     "execution_count": 13,
     "metadata": {},
     "output_type": "execute_result"
    }
   ],
   "source": [
    "kuzmin_result"
   ]
  },
  {
   "cell_type": "code",
   "execution_count": 14,
   "id": "791f2239-f629-406b-816c-ac4706f3a384",
   "metadata": {},
   "outputs": [
    {
     "data": {
      "text/plain": [
       "(A(T), mammos_analysis.kuzmin._A_function_of_temperature)"
      ]
     },
     "execution_count": 14,
     "metadata": {},
     "output_type": "execute_result"
    }
   ],
   "source": [
    "kuzmin_result.A, type(kuzmin_result.A)"
   ]
  },
  {
   "cell_type": "code",
   "execution_count": 15,
   "id": "6370a19d-2c27-4993-a1a2-51bc65f426b0",
   "metadata": {},
   "outputs": [
    {
     "data": {
      "text/plain": [
       "(K1(T), mammos_analysis.kuzmin._K1_function_of_temperature)"
      ]
     },
     "execution_count": 15,
     "metadata": {},
     "output_type": "execute_result"
    }
   ],
   "source": [
    "kuzmin_result.K1, type(kuzmin_result.K1)"
   ]
  },
  {
   "cell_type": "code",
   "execution_count": 16,
   "id": "8ddb2a09-3fb6-4e8b-88c9-1da3b9ae631d",
   "metadata": {},
   "outputs": [
    {
     "data": {
      "text/plain": [
       "(Ms(T), mammos_analysis.kuzmin._Ms_function_of_temperature)"
      ]
     },
     "execution_count": 16,
     "metadata": {},
     "output_type": "execute_result"
    }
   ],
   "source": [
    "kuzmin_result.Ms, type(kuzmin_result.Ms)"
   ]
  },
  {
   "cell_type": "code",
   "execution_count": 17,
   "id": "3ff869e7",
   "metadata": {},
   "outputs": [
    {
     "data": {
      "text/latex": [
       "ThermodynamicTemperature(value=300.0, unit=K)"
      ],
      "text/plain": [
       "ThermodynamicTemperature(value=300.0, unit=K)"
      ]
     },
     "execution_count": 17,
     "metadata": {},
     "output_type": "execute_result"
    }
   ],
   "source": [
    "T = me.Entity(\"ThermodynamicTemperature\", value=300, unit=\"K\")\n",
    "T"
   ]
  },
  {
   "cell_type": "code",
   "execution_count": 18,
   "id": "903e761e",
   "metadata": {},
   "outputs": [
    {
     "data": {
      "text/plain": [
       "(SpontaneousMagnetization(value=1259264.694893875, unit=A / m),\n",
       " mammos_entity.base.Entity)"
      ]
     },
     "execution_count": 18,
     "metadata": {},
     "output_type": "execute_result"
    }
   ],
   "source": [
    "kuzmin_result.Ms(T), type(kuzmin_result.Ms(T))"
   ]
  },
  {
   "cell_type": "markdown",
   "id": "f7867930",
   "metadata": {},
   "source": [
    "## 4: Run micromagnetic simulation - Evaluate hysteresis loop"
   ]
  },
  {
   "cell_type": "code",
   "execution_count": 19,
   "id": "4e143880",
   "metadata": {},
   "outputs": [],
   "source": [
    "loop_results = mammos_mumag.hysteresis.run(\n",
    "    mesh_filepath=mammos_mumag.mesh.CUBE_20_nm,\n",
    "    Ms=kuzmin_result.Ms(T),\n",
    "    A=kuzmin_result.A(T),\n",
    "    K1=kuzmin_result.K1(T),\n",
    "    hstart=(7*u.T).to(u.A / u.m),\n",
    "    hfinal=(-10*u.T).to(u.A / u.m),\n",
    "    hnsteps=30,\n",
    ")"
   ]
  },
  {
   "cell_type": "markdown",
   "id": "a23fa182",
   "metadata": {},
   "source": [
    "The outputs from the hysteresis loop are:"
   ]
  },
  {
   "cell_type": "code",
   "execution_count": 20,
   "id": "db47e7fe",
   "metadata": {},
   "outputs": [
    {
     "data": {
      "text/latex": [
       "ExternalMagneticField(value=[ 5570423.00518393  5119484.00000238  4668544.99482082  4217605.98963926\n",
       "  3766666.98445771  3315727.97927615  2864788.9740946   2413849.96891304\n",
       "  1962910.96373148  1511971.95854993  1061032.95336837   610093.94818681\n",
       "   159154.94300526  -291784.0621763   -742723.06735786 -1193662.07253941\n",
       " -1644601.07772097 -2095540.08290253 -2546479.08808408 -2997418.09326564], unit=A / m)"
      ],
      "text/plain": [
       "ExternalMagneticField(value=[ 5570423.00518393  5119484.00000238  4668544.99482082  4217605.98963926\n",
       "  3766666.98445771  3315727.97927615  2864788.9740946   2413849.96891304\n",
       "  1962910.96373148  1511971.95854993  1061032.95336837   610093.94818681\n",
       "   159154.94300526  -291784.0621763   -742723.06735786 -1193662.07253941\n",
       " -1644601.07772097 -2095540.08290253 -2546479.08808408 -2997418.09326564], unit=A / m)"
      ]
     },
     "execution_count": 20,
     "metadata": {},
     "output_type": "execute_result"
    }
   ],
   "source": [
    "loop_results.H"
   ]
  },
  {
   "cell_type": "code",
   "execution_count": 21,
   "id": "6f06d178",
   "metadata": {},
   "outputs": [
    {
     "data": {
      "text/plain": [
       "'ExternalMagneticField'"
      ]
     },
     "execution_count": 21,
     "metadata": {},
     "output_type": "execute_result"
    }
   ],
   "source": [
    "loop_results.H.ontology_label"
   ]
  },
  {
   "cell_type": "code",
   "execution_count": 22,
   "id": "2f1cfd74",
   "metadata": {},
   "outputs": [
    {
     "data": {
      "text/latex": [
       "SpontaneousMagnetization(value=[ 1259072.54948708  1259052.82405831  1259029.88980012  1259003.00951291\n",
       "  1258971.22082701  1258933.24832531  1258887.37253321  1258831.23005113\n",
       "  1258761.49986538  1258673.39503963  1258559.80771452  1258409.80693536\n",
       "  1258205.8557008   1257918.33169771  1257493.74506028  1256826.8856607\n",
       "  1255684.14964104  1253440.5516389   1247685.52503741 -1258901.81208853], unit=A / m)"
      ],
      "text/plain": [
       "SpontaneousMagnetization(value=[ 1259072.54948708  1259052.82405831  1259029.88980012  1259003.00951291\n",
       "  1258971.22082701  1258933.24832531  1258887.37253321  1258831.23005113\n",
       "  1258761.49986538  1258673.39503963  1258559.80771452  1258409.80693536\n",
       "  1258205.8557008   1257918.33169771  1257493.74506028  1256826.8856607\n",
       "  1255684.14964104  1253440.5516389   1247685.52503741 -1258901.81208853], unit=A / m)"
      ]
     },
     "execution_count": 22,
     "metadata": {},
     "output_type": "execute_result"
    }
   ],
   "source": [
    "loop_results.M"
   ]
  },
  {
   "cell_type": "code",
   "execution_count": 23,
   "id": "40b5d62b",
   "metadata": {},
   "outputs": [
    {
     "data": {
      "text/latex": [
       "EnergyDensity(value=[-11263295.79682548 -10549826.80367321  -9836369.86694099\n",
       "  -9122927.00480458  -8409500.71360436  -7696094.11871253\n",
       "  -6982711.1865229   -6269357.02861117  -5556038.34863297\n",
       "  -4842764.11703658  -4129546.62228879  -3416403.17028152\n",
       "  -2703358.95502994  -1990452.17392177  -1277743.76972834\n",
       "   -565337.64884598    146572.15808256    857570.6657998\n",
       "   1566526.87122736  -7192526.9637194 ], unit=J / m3)"
      ],
      "text/plain": [
       "EnergyDensity(value=[-11263295.79682548 -10549826.80367321  -9836369.86694099\n",
       "  -9122927.00480458  -8409500.71360436  -7696094.11871253\n",
       "  -6982711.1865229   -6269357.02861117  -5556038.34863297\n",
       "  -4842764.11703658  -4129546.62228879  -3416403.17028152\n",
       "  -2703358.95502994  -1990452.17392177  -1277743.76972834\n",
       "   -565337.64884598    146572.15808256    857570.6657998\n",
       "   1566526.87122736  -7192526.9637194 ], unit=J / m3)"
      ]
     },
     "execution_count": 23,
     "metadata": {},
     "output_type": "execute_result"
    }
   ],
   "source": [
    "loop_results.energy_density"
   ]
  },
  {
   "cell_type": "markdown",
   "id": "065ed377",
   "metadata": {},
   "source": [
    "The `dataframe` property generates a dataframe in the SI units ($\\mathrm{A}/\\mathrm{m}$ for external magnetic field and spontaneous magnetisation)."
   ]
  },
  {
   "cell_type": "code",
   "execution_count": 24,
   "id": "474363a6",
   "metadata": {},
   "outputs": [
    {
     "data": {
      "text/html": [
       "<div>\n",
       "<style scoped>\n",
       "    .dataframe tbody tr th:only-of-type {\n",
       "        vertical-align: middle;\n",
       "    }\n",
       "\n",
       "    .dataframe tbody tr th {\n",
       "        vertical-align: top;\n",
       "    }\n",
       "\n",
       "    .dataframe thead th {\n",
       "        text-align: right;\n",
       "    }\n",
       "</style>\n",
       "<table border=\"1\" class=\"dataframe\">\n",
       "  <thead>\n",
       "    <tr style=\"text-align: right;\">\n",
       "      <th></th>\n",
       "      <th>configuration_type</th>\n",
       "      <th>H</th>\n",
       "      <th>M</th>\n",
       "      <th>energy_density</th>\n",
       "    </tr>\n",
       "  </thead>\n",
       "  <tbody>\n",
       "    <tr>\n",
       "      <th>0</th>\n",
       "      <td>1</td>\n",
       "      <td>5.570423e+06</td>\n",
       "      <td>1.259073e+06</td>\n",
       "      <td>-1.126330e+07</td>\n",
       "    </tr>\n",
       "    <tr>\n",
       "      <th>1</th>\n",
       "      <td>1</td>\n",
       "      <td>5.119484e+06</td>\n",
       "      <td>1.259053e+06</td>\n",
       "      <td>-1.054983e+07</td>\n",
       "    </tr>\n",
       "    <tr>\n",
       "      <th>2</th>\n",
       "      <td>1</td>\n",
       "      <td>4.668545e+06</td>\n",
       "      <td>1.259030e+06</td>\n",
       "      <td>-9.836370e+06</td>\n",
       "    </tr>\n",
       "    <tr>\n",
       "      <th>3</th>\n",
       "      <td>1</td>\n",
       "      <td>4.217606e+06</td>\n",
       "      <td>1.259003e+06</td>\n",
       "      <td>-9.122927e+06</td>\n",
       "    </tr>\n",
       "    <tr>\n",
       "      <th>4</th>\n",
       "      <td>1</td>\n",
       "      <td>3.766667e+06</td>\n",
       "      <td>1.258971e+06</td>\n",
       "      <td>-8.409501e+06</td>\n",
       "    </tr>\n",
       "    <tr>\n",
       "      <th>5</th>\n",
       "      <td>1</td>\n",
       "      <td>3.315728e+06</td>\n",
       "      <td>1.258933e+06</td>\n",
       "      <td>-7.696094e+06</td>\n",
       "    </tr>\n",
       "    <tr>\n",
       "      <th>6</th>\n",
       "      <td>1</td>\n",
       "      <td>2.864789e+06</td>\n",
       "      <td>1.258887e+06</td>\n",
       "      <td>-6.982711e+06</td>\n",
       "    </tr>\n",
       "    <tr>\n",
       "      <th>7</th>\n",
       "      <td>1</td>\n",
       "      <td>2.413850e+06</td>\n",
       "      <td>1.258831e+06</td>\n",
       "      <td>-6.269357e+06</td>\n",
       "    </tr>\n",
       "    <tr>\n",
       "      <th>8</th>\n",
       "      <td>1</td>\n",
       "      <td>1.962911e+06</td>\n",
       "      <td>1.258761e+06</td>\n",
       "      <td>-5.556038e+06</td>\n",
       "    </tr>\n",
       "    <tr>\n",
       "      <th>9</th>\n",
       "      <td>1</td>\n",
       "      <td>1.511972e+06</td>\n",
       "      <td>1.258673e+06</td>\n",
       "      <td>-4.842764e+06</td>\n",
       "    </tr>\n",
       "    <tr>\n",
       "      <th>10</th>\n",
       "      <td>1</td>\n",
       "      <td>1.061033e+06</td>\n",
       "      <td>1.258560e+06</td>\n",
       "      <td>-4.129547e+06</td>\n",
       "    </tr>\n",
       "    <tr>\n",
       "      <th>11</th>\n",
       "      <td>1</td>\n",
       "      <td>6.100939e+05</td>\n",
       "      <td>1.258410e+06</td>\n",
       "      <td>-3.416403e+06</td>\n",
       "    </tr>\n",
       "    <tr>\n",
       "      <th>12</th>\n",
       "      <td>1</td>\n",
       "      <td>1.591549e+05</td>\n",
       "      <td>1.258206e+06</td>\n",
       "      <td>-2.703359e+06</td>\n",
       "    </tr>\n",
       "    <tr>\n",
       "      <th>13</th>\n",
       "      <td>1</td>\n",
       "      <td>-2.917841e+05</td>\n",
       "      <td>1.257918e+06</td>\n",
       "      <td>-1.990452e+06</td>\n",
       "    </tr>\n",
       "    <tr>\n",
       "      <th>14</th>\n",
       "      <td>1</td>\n",
       "      <td>-7.427231e+05</td>\n",
       "      <td>1.257494e+06</td>\n",
       "      <td>-1.277744e+06</td>\n",
       "    </tr>\n",
       "    <tr>\n",
       "      <th>15</th>\n",
       "      <td>1</td>\n",
       "      <td>-1.193662e+06</td>\n",
       "      <td>1.256827e+06</td>\n",
       "      <td>-5.653376e+05</td>\n",
       "    </tr>\n",
       "    <tr>\n",
       "      <th>16</th>\n",
       "      <td>1</td>\n",
       "      <td>-1.644601e+06</td>\n",
       "      <td>1.255684e+06</td>\n",
       "      <td>1.465722e+05</td>\n",
       "    </tr>\n",
       "    <tr>\n",
       "      <th>17</th>\n",
       "      <td>1</td>\n",
       "      <td>-2.095540e+06</td>\n",
       "      <td>1.253441e+06</td>\n",
       "      <td>8.575707e+05</td>\n",
       "    </tr>\n",
       "    <tr>\n",
       "      <th>18</th>\n",
       "      <td>1</td>\n",
       "      <td>-2.546479e+06</td>\n",
       "      <td>1.247686e+06</td>\n",
       "      <td>1.566527e+06</td>\n",
       "    </tr>\n",
       "    <tr>\n",
       "      <th>19</th>\n",
       "      <td>2</td>\n",
       "      <td>-2.997418e+06</td>\n",
       "      <td>-1.258902e+06</td>\n",
       "      <td>-7.192527e+06</td>\n",
       "    </tr>\n",
       "  </tbody>\n",
       "</table>\n",
       "</div>"
      ],
      "text/plain": [
       "    configuration_type             H             M  energy_density\n",
       "0                    1  5.570423e+06  1.259073e+06   -1.126330e+07\n",
       "1                    1  5.119484e+06  1.259053e+06   -1.054983e+07\n",
       "2                    1  4.668545e+06  1.259030e+06   -9.836370e+06\n",
       "3                    1  4.217606e+06  1.259003e+06   -9.122927e+06\n",
       "4                    1  3.766667e+06  1.258971e+06   -8.409501e+06\n",
       "5                    1  3.315728e+06  1.258933e+06   -7.696094e+06\n",
       "6                    1  2.864789e+06  1.258887e+06   -6.982711e+06\n",
       "7                    1  2.413850e+06  1.258831e+06   -6.269357e+06\n",
       "8                    1  1.962911e+06  1.258761e+06   -5.556038e+06\n",
       "9                    1  1.511972e+06  1.258673e+06   -4.842764e+06\n",
       "10                   1  1.061033e+06  1.258560e+06   -4.129547e+06\n",
       "11                   1  6.100939e+05  1.258410e+06   -3.416403e+06\n",
       "12                   1  1.591549e+05  1.258206e+06   -2.703359e+06\n",
       "13                   1 -2.917841e+05  1.257918e+06   -1.990452e+06\n",
       "14                   1 -7.427231e+05  1.257494e+06   -1.277744e+06\n",
       "15                   1 -1.193662e+06  1.256827e+06   -5.653376e+05\n",
       "16                   1 -1.644601e+06  1.255684e+06    1.465722e+05\n",
       "17                   1 -2.095540e+06  1.253441e+06    8.575707e+05\n",
       "18                   1 -2.546479e+06  1.247686e+06    1.566527e+06\n",
       "19                   2 -2.997418e+06 -1.258902e+06   -7.192527e+06"
      ]
     },
     "execution_count": 24,
     "metadata": {},
     "output_type": "execute_result"
    }
   ],
   "source": [
    "loop_results.dataframe"
   ]
  },
  {
   "cell_type": "markdown",
   "id": "b08458bb",
   "metadata": {},
   "source": [
    "We can generate a table in Tesla:"
   ]
  },
  {
   "cell_type": "code",
   "execution_count": 25,
   "id": "89a262bf",
   "metadata": {},
   "outputs": [
    {
     "data": {
      "text/html": [
       "<div>\n",
       "<style scoped>\n",
       "    .dataframe tbody tr th:only-of-type {\n",
       "        vertical-align: middle;\n",
       "    }\n",
       "\n",
       "    .dataframe tbody tr th {\n",
       "        vertical-align: top;\n",
       "    }\n",
       "\n",
       "    .dataframe thead th {\n",
       "        text-align: right;\n",
       "    }\n",
       "</style>\n",
       "<table border=\"1\" class=\"dataframe\">\n",
       "  <thead>\n",
       "    <tr style=\"text-align: right;\">\n",
       "      <th></th>\n",
       "      <th>mu0_H</th>\n",
       "      <th>J</th>\n",
       "    </tr>\n",
       "  </thead>\n",
       "  <tbody>\n",
       "    <tr>\n",
       "      <th>0</th>\n",
       "      <td>7.000000</td>\n",
       "      <td>1.582197</td>\n",
       "    </tr>\n",
       "    <tr>\n",
       "      <th>1</th>\n",
       "      <td>6.433333</td>\n",
       "      <td>1.582172</td>\n",
       "    </tr>\n",
       "    <tr>\n",
       "      <th>2</th>\n",
       "      <td>5.866667</td>\n",
       "      <td>1.582144</td>\n",
       "    </tr>\n",
       "    <tr>\n",
       "      <th>3</th>\n",
       "      <td>5.300000</td>\n",
       "      <td>1.582110</td>\n",
       "    </tr>\n",
       "    <tr>\n",
       "      <th>4</th>\n",
       "      <td>4.733333</td>\n",
       "      <td>1.582070</td>\n",
       "    </tr>\n",
       "    <tr>\n",
       "      <th>5</th>\n",
       "      <td>4.166667</td>\n",
       "      <td>1.582022</td>\n",
       "    </tr>\n",
       "    <tr>\n",
       "      <th>6</th>\n",
       "      <td>3.600000</td>\n",
       "      <td>1.581965</td>\n",
       "    </tr>\n",
       "    <tr>\n",
       "      <th>7</th>\n",
       "      <td>3.033333</td>\n",
       "      <td>1.581894</td>\n",
       "    </tr>\n",
       "    <tr>\n",
       "      <th>8</th>\n",
       "      <td>2.466667</td>\n",
       "      <td>1.581806</td>\n",
       "    </tr>\n",
       "    <tr>\n",
       "      <th>9</th>\n",
       "      <td>1.900000</td>\n",
       "      <td>1.581696</td>\n",
       "    </tr>\n",
       "    <tr>\n",
       "      <th>10</th>\n",
       "      <td>1.333333</td>\n",
       "      <td>1.581553</td>\n",
       "    </tr>\n",
       "    <tr>\n",
       "      <th>11</th>\n",
       "      <td>0.766667</td>\n",
       "      <td>1.581364</td>\n",
       "    </tr>\n",
       "    <tr>\n",
       "      <th>12</th>\n",
       "      <td>0.200000</td>\n",
       "      <td>1.581108</td>\n",
       "    </tr>\n",
       "    <tr>\n",
       "      <th>13</th>\n",
       "      <td>-0.366667</td>\n",
       "      <td>1.580747</td>\n",
       "    </tr>\n",
       "    <tr>\n",
       "      <th>14</th>\n",
       "      <td>-0.933333</td>\n",
       "      <td>1.580213</td>\n",
       "    </tr>\n",
       "    <tr>\n",
       "      <th>15</th>\n",
       "      <td>-1.500000</td>\n",
       "      <td>1.579375</td>\n",
       "    </tr>\n",
       "    <tr>\n",
       "      <th>16</th>\n",
       "      <td>-2.066667</td>\n",
       "      <td>1.577939</td>\n",
       "    </tr>\n",
       "    <tr>\n",
       "      <th>17</th>\n",
       "      <td>-2.633333</td>\n",
       "      <td>1.575120</td>\n",
       "    </tr>\n",
       "    <tr>\n",
       "      <th>18</th>\n",
       "      <td>-3.200000</td>\n",
       "      <td>1.567888</td>\n",
       "    </tr>\n",
       "    <tr>\n",
       "      <th>19</th>\n",
       "      <td>-3.766667</td>\n",
       "      <td>-1.581983</td>\n",
       "    </tr>\n",
       "  </tbody>\n",
       "</table>\n",
       "</div>"
      ],
      "text/plain": [
       "       mu0_H         J\n",
       "0   7.000000  1.582197\n",
       "1   6.433333  1.582172\n",
       "2   5.866667  1.582144\n",
       "3   5.300000  1.582110\n",
       "4   4.733333  1.582070\n",
       "5   4.166667  1.582022\n",
       "6   3.600000  1.581965\n",
       "7   3.033333  1.581894\n",
       "8   2.466667  1.581806\n",
       "9   1.900000  1.581696\n",
       "10  1.333333  1.581553\n",
       "11  0.766667  1.581364\n",
       "12  0.200000  1.581108\n",
       "13 -0.366667  1.580747\n",
       "14 -0.933333  1.580213\n",
       "15 -1.500000  1.579375\n",
       "16 -2.066667  1.577939\n",
       "17 -2.633333  1.575120\n",
       "18 -3.200000  1.567888\n",
       "19 -3.766667 -1.581983"
      ]
     },
     "execution_count": 25,
     "metadata": {},
     "output_type": "execute_result"
    }
   ],
   "source": [
    "df = pd.DataFrame(\n",
    "    {\n",
    "        \"mu0_H\": loop_results.H.to(u.T),\n",
    "        \"J\": loop_results.M.to(u.T),\n",
    "    }\n",
    ")\n",
    "df"
   ]
  },
  {
   "cell_type": "code",
   "execution_count": 26,
   "id": "e6f33999",
   "metadata": {},
   "outputs": [
    {
     "data": {
      "text/html": [
       "<div>\n",
       "<style scoped>\n",
       "    .dataframe tbody tr th:only-of-type {\n",
       "        vertical-align: middle;\n",
       "    }\n",
       "\n",
       "    .dataframe tbody tr th {\n",
       "        vertical-align: top;\n",
       "    }\n",
       "\n",
       "    .dataframe thead th {\n",
       "        text-align: right;\n",
       "    }\n",
       "</style>\n",
       "<table border=\"1\" class=\"dataframe\">\n",
       "  <thead>\n",
       "    <tr style=\"text-align: right;\">\n",
       "      <th></th>\n",
       "      <th>mu0_H</th>\n",
       "      <th>J</th>\n",
       "    </tr>\n",
       "  </thead>\n",
       "  <tbody>\n",
       "    <tr>\n",
       "      <th>0</th>\n",
       "      <td>5.570423e+06</td>\n",
       "      <td>1.259073e+06</td>\n",
       "    </tr>\n",
       "    <tr>\n",
       "      <th>1</th>\n",
       "      <td>5.119484e+06</td>\n",
       "      <td>1.259053e+06</td>\n",
       "    </tr>\n",
       "    <tr>\n",
       "      <th>2</th>\n",
       "      <td>4.668545e+06</td>\n",
       "      <td>1.259030e+06</td>\n",
       "    </tr>\n",
       "    <tr>\n",
       "      <th>3</th>\n",
       "      <td>4.217606e+06</td>\n",
       "      <td>1.259003e+06</td>\n",
       "    </tr>\n",
       "    <tr>\n",
       "      <th>4</th>\n",
       "      <td>3.766667e+06</td>\n",
       "      <td>1.258971e+06</td>\n",
       "    </tr>\n",
       "    <tr>\n",
       "      <th>5</th>\n",
       "      <td>3.315728e+06</td>\n",
       "      <td>1.258933e+06</td>\n",
       "    </tr>\n",
       "    <tr>\n",
       "      <th>6</th>\n",
       "      <td>2.864789e+06</td>\n",
       "      <td>1.258887e+06</td>\n",
       "    </tr>\n",
       "    <tr>\n",
       "      <th>7</th>\n",
       "      <td>2.413850e+06</td>\n",
       "      <td>1.258831e+06</td>\n",
       "    </tr>\n",
       "    <tr>\n",
       "      <th>8</th>\n",
       "      <td>1.962911e+06</td>\n",
       "      <td>1.258761e+06</td>\n",
       "    </tr>\n",
       "    <tr>\n",
       "      <th>9</th>\n",
       "      <td>1.511972e+06</td>\n",
       "      <td>1.258673e+06</td>\n",
       "    </tr>\n",
       "    <tr>\n",
       "      <th>10</th>\n",
       "      <td>1.061033e+06</td>\n",
       "      <td>1.258560e+06</td>\n",
       "    </tr>\n",
       "    <tr>\n",
       "      <th>11</th>\n",
       "      <td>6.100939e+05</td>\n",
       "      <td>1.258410e+06</td>\n",
       "    </tr>\n",
       "    <tr>\n",
       "      <th>12</th>\n",
       "      <td>1.591549e+05</td>\n",
       "      <td>1.258206e+06</td>\n",
       "    </tr>\n",
       "    <tr>\n",
       "      <th>13</th>\n",
       "      <td>-2.917841e+05</td>\n",
       "      <td>1.257918e+06</td>\n",
       "    </tr>\n",
       "    <tr>\n",
       "      <th>14</th>\n",
       "      <td>-7.427231e+05</td>\n",
       "      <td>1.257494e+06</td>\n",
       "    </tr>\n",
       "    <tr>\n",
       "      <th>15</th>\n",
       "      <td>-1.193662e+06</td>\n",
       "      <td>1.256827e+06</td>\n",
       "    </tr>\n",
       "    <tr>\n",
       "      <th>16</th>\n",
       "      <td>-1.644601e+06</td>\n",
       "      <td>1.255684e+06</td>\n",
       "    </tr>\n",
       "    <tr>\n",
       "      <th>17</th>\n",
       "      <td>-2.095540e+06</td>\n",
       "      <td>1.253441e+06</td>\n",
       "    </tr>\n",
       "    <tr>\n",
       "      <th>18</th>\n",
       "      <td>-2.546479e+06</td>\n",
       "      <td>1.247686e+06</td>\n",
       "    </tr>\n",
       "    <tr>\n",
       "      <th>19</th>\n",
       "      <td>-2.997418e+06</td>\n",
       "      <td>-1.258902e+06</td>\n",
       "    </tr>\n",
       "  </tbody>\n",
       "</table>\n",
       "</div>"
      ],
      "text/plain": [
       "           mu0_H             J\n",
       "0   5.570423e+06  1.259073e+06\n",
       "1   5.119484e+06  1.259053e+06\n",
       "2   4.668545e+06  1.259030e+06\n",
       "3   4.217606e+06  1.259003e+06\n",
       "4   3.766667e+06  1.258971e+06\n",
       "5   3.315728e+06  1.258933e+06\n",
       "6   2.864789e+06  1.258887e+06\n",
       "7   2.413850e+06  1.258831e+06\n",
       "8   1.962911e+06  1.258761e+06\n",
       "9   1.511972e+06  1.258673e+06\n",
       "10  1.061033e+06  1.258560e+06\n",
       "11  6.100939e+05  1.258410e+06\n",
       "12  1.591549e+05  1.258206e+06\n",
       "13 -2.917841e+05  1.257918e+06\n",
       "14 -7.427231e+05  1.257494e+06\n",
       "15 -1.193662e+06  1.256827e+06\n",
       "16 -1.644601e+06  1.255684e+06\n",
       "17 -2.095540e+06  1.253441e+06\n",
       "18 -2.546479e+06  1.247686e+06\n",
       "19 -2.997418e+06 -1.258902e+06"
      ]
     },
     "execution_count": 26,
     "metadata": {},
     "output_type": "execute_result"
    }
   ],
   "source": [
    "# INFO: useful information\n",
    "# df[\"H\"] = (df[\"mu0_Hext\"].to_numpy() * u.T).to(\"A/m\")\n",
    "# df[\"M\"] = (df[\"polarisation\"].to_numpy() * u.T).to(\"A/m\").value\n",
    "df * u.T.to(\"A/m\")"
   ]
  },
  {
   "cell_type": "code",
   "execution_count": 27,
   "id": "a628f093",
   "metadata": {},
   "outputs": [
    {
     "data": {
      "image/png": "[encoded data removed]",
      "text/plain": [
       "<Figure size 640x480 with 1 Axes>"
      ]
     },
     "metadata": {},
     "output_type": "display_data"
    }
   ],
   "source": [
    "loop_results.plot(duplicate=True, configuration_marks=True)"
   ]
  },
  {
   "cell_type": "code",
   "execution_count": 28,
   "id": "cb472635",
   "metadata": {},
   "outputs": [
    {
     "data": {
      "text/plain": [
       "[PosixPath('/home/petrocch/Seafile/programming/mammos/workflow/8/hystloop/hystloop_0001.vtu'),\n",
       " PosixPath('/home/petrocch/Seafile/programming/mammos/workflow/8/hystloop/hystloop_0002.vtu')]"
      ]
     },
     "execution_count": 28,
     "metadata": {},
     "output_type": "execute_result"
    }
   ],
   "source": [
    "loop_results.configurations"
   ]
  },
  {
   "cell_type": "code",
   "execution_count": 29,
   "id": "c7883fb6",
   "metadata": {},
   "outputs": [
    {
     "data": {
      "application/vnd.jupyter.widget-view+json": {
       "model_id": "d35f4a6f4c894622a5934d667fbe5a75",
       "version_major": 2,
       "version_minor": 0
      },
      "text/plain": [
       "Widget(value='<iframe src=\"http://localhost:44425/index.html?ui=P_0x7f37a6260690_0&reconnect=auto\" class=\"pyvi…"
      ]
     },
     "metadata": {},
     "output_type": "display_data"
    }
   ],
   "source": [
    "loop_results.plot_configuration(0)"
   ]
  },
  {
   "cell_type": "markdown",
   "id": "adee7ed9",
   "metadata": {},
   "source": [
    "We can extract the extrinsic properties with the `extrinsic_properties` function from the `mammos_analysis` package:"
   ]
  },
  {
   "cell_type": "code",
   "execution_count": 30,
   "id": "16f686ff",
   "metadata": {},
   "outputs": [],
   "source": [
    "extrinsic_properties = mammos_analysis.hysteresis.extrinsic_properties(\n",
    "    loop_results.M,\n",
    "    loop_results.H,\n",
    "    demagnetisation_coefficient=None,\n",
    ")"
   ]
  },
  {
   "cell_type": "code",
   "execution_count": 31,
   "id": "2948a08c",
   "metadata": {},
   "outputs": [
    {
     "data": {
      "text/latex": [
       "CoercivityHcExternal(value=-1257918.3316977078, unit=A / m)"
      ],
      "text/plain": [
       "CoercivityHcExternal(value=-1257918.3316977078, unit=A / m)"
      ]
     },
     "execution_count": 31,
     "metadata": {},
     "output_type": "execute_result"
    }
   ],
   "source": [
    "extrinsic_properties.Hc"
   ]
  },
  {
   "cell_type": "code",
   "execution_count": 32,
   "id": "8c674a7d",
   "metadata": {},
   "outputs": [
    {
     "data": {
      "text/latex": [
       "Remanence(value=-2997418.0932656387, unit=A / m)"
      ],
      "text/plain": [
       "Remanence(value=-2997418.0932656387, unit=A / m)"
      ]
     },
     "execution_count": 32,
     "metadata": {},
     "output_type": "execute_result"
    }
   ],
   "source": [
    "extrinsic_properties.Mr"
   ]
  },
  {
   "cell_type": "code",
   "execution_count": 33,
   "id": "92fc3f9a",
   "metadata": {},
   "outputs": [
    {
     "data": {
      "text/latex": [
       "MaximumEnergyProduct(value=nan, unit=J / m3)"
      ],
      "text/plain": [
       "MaximumEnergyProduct(value=nan, unit=J / m3)"
      ]
     },
     "execution_count": 33,
     "metadata": {},
     "output_type": "execute_result"
    }
   ],
   "source": [
    "extrinsic_properties.BHmax\n",
    "# is Not A Number (not yet implemented)."
   ]
  },
  {
   "cell_type": "code",
   "execution_count": 34,
   "id": "d9ec00a3",
   "metadata": {},
   "outputs": [
    {
     "data": {
      "text/plain": [
       "<matplotlib.legend.Legend at 0x7f37a8c0c450>"
      ]
     },
     "execution_count": 34,
     "metadata": {},
     "output_type": "execute_result"
    },
    {
     "data": {
      "image/png": "[encoded data removed]",
      "text/plain": [
       "<Figure size 640x480 with 1 Axes>"
      ]
     },
     "metadata": {},
     "output_type": "display_data"
    }
   ],
   "source": [
    "loop_results.plot()\n",
    "plt.axhline(0, c=\"k\")\n",
    "plt.axvline(0, c=\"k\")\n",
    "plt.scatter([0],[extrinsic_properties.Mr.value], c=\"r\", label=\"Mr\")\n",
    "plt.scatter(extrinsic_properties.Hc.value, 0, c=\"g\", label=\"Hc\")\n",
    "plt.legend()"
   ]
  }
 ],
 "metadata": {
  "kernelspec": {
   "display_name": "default",
   "language": "python",
   "name": "python3"
  },
  "language_info": {
   "codemirror_mode": {
    "name": "ipython",
    "version": 3
   },
   "file_extension": ".py",
   "mimetype": "text/x-python",
   "name": "python",
   "nbconvert_exporter": "python",
   "pygments_lexer": "ipython3",
   "version": "3.11.12"
  }
 },
 "nbformat": 4,
 "nbformat_minor": 5
}

{
 "cells": [
  {
   "cell_type": "markdown",
   "id": "6f55f51b",
   "metadata": {},
   "source": [
    "# Workflow"
   ]
  },
  {
   "cell_type": "code",
   "execution_count": 1,
   "id": "2ee01e2d",
   "metadata": {},
   "outputs": [],
   "source": [
    "import matplotlib.pyplot as plt\n",
    "from matplotlib.figure import figaspect\n",
    "import numpy as np\n",
    "import pandas as pd\n",
    "\n",
    "import mammos_analysis\n",
    "import mammos_dft\n",
    "import mammos_spindynamics\n",
    "import mammos_mumag\n",
    "import mammos_entity as me\n",
    "import mammos_units as u\n",
    "\n",
    "u.set_enabled_equivalencies(u.magnetic_flux_field());"
   ]
  },
  {
   "cell_type": "code",
   "execution_count": 2,
   "id": "9f0cbb63-77d1-4f4e-b381-b6e9cb6b921f",
   "metadata": {},
   "outputs": [],
   "source": [
    "import warnings\n",
    "warnings.filterwarnings(\"ignore\")"
   ]
  },
  {
   "cell_type": "markdown",
   "id": "eff2974e",
   "metadata": {},
   "source": [
    "## 1: DFT data: magnetisation and anisotropy at zero Kelvin"
   ]
  },
  {
   "cell_type": "code",
   "execution_count": 3,
   "id": "6de4d152",
   "metadata": {},
   "outputs": [
    {
     "data": {
      "text/html": [
       "<pre style=\"white-space:pre;overflow-x:auto;line-height:normal;font-family:Menlo,'DejaVu Sans Mono',consolas,'Courier New',monospace\">Found material in database.\n",
       "</pre>\n"
      ],
      "text/plain": [
       "Found material in database.\n"
      ]
     },
     "metadata": {},
     "output_type": "display_data"
    },
    {
     "data": {
      "text/html": [
       "<pre style=\"white-space:pre;overflow-x:auto;line-height:normal;font-family:Menlo,'DejaVu Sans Mono',consolas,'Courier New',monospace\">\n",
       "Chemical Formula: Nd2Fe14B\n",
       "Space group name: P42/mnm\n",
       "Space group number: <span style=\"color: #008080; text-decoration-color: #008080; font-weight: bold\">136</span>\n",
       "Cell length a: <span style=\"color: #008080; text-decoration-color: #008080; font-weight: bold\">8.78</span> Angstrom\n",
       "Cell length b: <span style=\"color: #008080; text-decoration-color: #008080; font-weight: bold\">8.78</span> Angstrom\n",
       "Cell length c: <span style=\"color: #008080; text-decoration-color: #008080; font-weight: bold\">12.12</span> Angstrom\n",
       "Cell angle alpha: <span style=\"color: #008080; text-decoration-color: #008080; font-weight: bold\">90.0</span> deg\n",
       "Cell angle beta: <span style=\"color: #008080; text-decoration-color: #008080; font-weight: bold\">90.0</span> deg\n",
       "Cell angle gamma: <span style=\"color: #008080; text-decoration-color: #008080; font-weight: bold\">90.0</span> deg\n",
       "Cell volume: <span style=\"color: #008080; text-decoration-color: #008080; font-weight: bold\">933.42</span> Angstrom\n",
       "ICSD_label: \n",
       "OQMD_label: \n",
       "\n",
       "</pre>\n"
      ],
      "text/plain": [
       "\n",
       "Chemical Formula: Nd2Fe14B\n",
       "Space group name: P42/mnm\n",
       "Space group number: \u001b[1;36m136\u001b[0m\n",
       "Cell length a: \u001b[1;36m8.78\u001b[0m Angstrom\n",
       "Cell length b: \u001b[1;36m8.78\u001b[0m Angstrom\n",
       "Cell length c: \u001b[1;36m12.12\u001b[0m Angstrom\n",
       "Cell angle alpha: \u001b[1;36m90.0\u001b[0m deg\n",
       "Cell angle beta: \u001b[1;36m90.0\u001b[0m deg\n",
       "Cell angle gamma: \u001b[1;36m90.0\u001b[0m deg\n",
       "Cell volume: \u001b[1;36m933.42\u001b[0m Angstrom\n",
       "ICSD_label: \n",
       "OQMD_label: \n",
       "\n"
      ]
     },
     "metadata": {},
     "output_type": "display_data"
    }
   ],
   "source": [
    "results_dft = mammos_dft.db.get_micromagnetic_properties(\"Nd2Fe14B-136\", print_info=True)"
   ]
  },
  {
   "cell_type": "markdown",
   "id": "da62070c",
   "metadata": {},
   "source": [
    "The first step loads spontaneous magnetisation $M_s$ and the uniaxial anisotropy constant $K_1$ from a database of DFT calculations."
   ]
  },
  {
   "cell_type": "code",
   "execution_count": 4,
   "id": "857667c6",
   "metadata": {},
   "outputs": [
    {
     "data": {
      "text/plain": [
       "MicromagneticProperties(Ms_0=SpontaneousMagnetization(value=1280000.0, unit=A / m), K1_0=UniaxialAnisotropyConstant(value=4300000.0, unit=J / m3))"
      ]
     },
     "execution_count": 4,
     "metadata": {},
     "output_type": "execute_result"
    }
   ],
   "source": [
    "results_dft"
   ]
  },
  {
   "cell_type": "code",
   "execution_count": 5,
   "id": "73a7d885",
   "metadata": {},
   "outputs": [
    {
     "data": {
      "text/latex": [
       "SpontaneousMagnetization(value=1280000.0, unit=A / m)"
      ],
      "text/plain": [
       "SpontaneousMagnetization(value=1280000.0, unit=A / m)"
      ]
     },
     "execution_count": 5,
     "metadata": {},
     "output_type": "execute_result"
    }
   ],
   "source": [
    "results_dft.Ms_0"
   ]
  },
  {
   "cell_type": "code",
   "execution_count": 6,
   "id": "1b2ba1eb",
   "metadata": {},
   "outputs": [
    {
     "data": {
      "text/latex": [
       "UniaxialAnisotropyConstant(value=4300000.0, unit=J / m3)"
      ],
      "text/plain": [
       "UniaxialAnisotropyConstant(value=4300000.0, unit=J / m3)"
      ]
     },
     "execution_count": 6,
     "metadata": {},
     "output_type": "execute_result"
    }
   ],
   "source": [
    "results_dft.K1_0"
   ]
  },
  {
   "cell_type": "markdown",
   "id": "a7256b21",
   "metadata": {},
   "source": [
    "## 2: Temperature-dependent magnetisation data from spindynamics database lookup"
   ]
  },
  {
   "cell_type": "code",
   "execution_count": 7,
   "id": "61c7e5fa",
   "metadata": {},
   "outputs": [],
   "source": [
    "results_spindynamics = mammos_spindynamics.db.get_spontaneous_magnetisation(\"Nd2Fe14B-136\")"
   ]
  },
  {
   "cell_type": "markdown",
   "id": "0e538e55",
   "metadata": {},
   "source": [
    "In the second step we use a spin dynamics calculation database. We load some points for the temperature-dependent magnetisation."
   ]
  },
  {
   "cell_type": "code",
   "execution_count": 8,
   "id": "330b3e99",
   "metadata": {},
   "outputs": [
    {
     "data": {
      "text/latex": [
       "ThermodynamicTemperature(value=[  0.          31.57894737  63.15789474  94.73684211 126.31578947\n",
       " 157.89473684 189.47368421 221.05263158 252.63157895 284.21052632\n",
       " 315.78947368 347.36842105 378.94736842 410.52631579 442.10526316\n",
       " 473.68421053 505.26315789 536.84210526 568.42105263 600.\n",
       " 630.         690.         720.         750.         780.        ], unit=K)"
      ],
      "text/plain": [
       "ThermodynamicTemperature(value=[  0.          31.57894737  63.15789474  94.73684211 126.31578947\n",
       " 157.89473684 189.47368421 221.05263158 252.63157895 284.21052632\n",
       " 315.78947368 347.36842105 378.94736842 410.52631579 442.10526316\n",
       " 473.68421053 505.26315789 536.84210526 568.42105263 600.\n",
       " 630.         690.         720.         750.         780.        ], unit=K)"
      ]
     },
     "execution_count": 8,
     "metadata": {},
     "output_type": "execute_result"
    }
   ],
   "source": [
    "results_spindynamics.T"
   ]
  },
  {
   "cell_type": "code",
   "execution_count": 9,
   "id": "f17bad99",
   "metadata": {},
   "outputs": [
    {
     "data": {
      "text/latex": [
       "SpontaneousMagnetization(value=[1460000.         1456985.36046193 1449449.93657199 1437972.77253639\n",
       " 1422736.58364638 1403779.39648225 1381044.11152378 1354391.97626968\n",
       " 1323600.99407897 1288353.67899904 1248213.31769096 1202584.11677895\n",
       " 1150645.20320241 1091237.80552561 1022660.54963577  942263.95974459\n",
       "  845538.33920183  723617.755767    553555.21471405  171781.14820705\n",
       "       0.               0.               0.               0.\n",
       "       0.        ], unit=A / m)"
      ],
      "text/plain": [
       "SpontaneousMagnetization(value=[1460000.         1456985.36046193 1449449.93657199 1437972.77253639\n",
       " 1422736.58364638 1403779.39648225 1381044.11152378 1354391.97626968\n",
       " 1323600.99407897 1288353.67899904 1248213.31769096 1202584.11677895\n",
       " 1150645.20320241 1091237.80552561 1022660.54963577  942263.95974459\n",
       "  845538.33920183  723617.755767    553555.21471405  171781.14820705\n",
       "       0.               0.               0.               0.\n",
       "       0.        ], unit=A / m)"
      ]
     },
     "execution_count": 9,
     "metadata": {},
     "output_type": "execute_result"
    }
   ],
   "source": [
    "results_spindynamics.Ms"
   ]
  },
  {
   "cell_type": "code",
   "execution_count": 10,
   "id": "a4ba6bb2",
   "metadata": {},
   "outputs": [
    {
     "data": {
      "text/html": [
       "<div>\n",
       "<style scoped>\n",
       "    .dataframe tbody tr th:only-of-type {\n",
       "        vertical-align: middle;\n",
       "    }\n",
       "\n",
       "    .dataframe tbody tr th {\n",
       "        vertical-align: top;\n",
       "    }\n",
       "\n",
       "    .dataframe thead th {\n",
       "        text-align: right;\n",
       "    }\n",
       "</style>\n",
       "<table border=\"1\" class=\"dataframe\">\n",
       "  <thead>\n",
       "    <tr style=\"text-align: right;\">\n",
       "      <th></th>\n",
       "      <th>T</th>\n",
       "      <th>Ms</th>\n",
       "    </tr>\n",
       "  </thead>\n",
       "  <tbody>\n",
       "    <tr>\n",
       "      <th>0</th>\n",
       "      <td>0.000000</td>\n",
       "      <td>1.460000e+06</td>\n",
       "    </tr>\n",
       "    <tr>\n",
       "      <th>1</th>\n",
       "      <td>31.578947</td>\n",
       "      <td>1.456985e+06</td>\n",
       "    </tr>\n",
       "    <tr>\n",
       "      <th>2</th>\n",
       "      <td>63.157895</td>\n",
       "      <td>1.449450e+06</td>\n",
       "    </tr>\n",
       "    <tr>\n",
       "      <th>3</th>\n",
       "      <td>94.736842</td>\n",
       "      <td>1.437973e+06</td>\n",
       "    </tr>\n",
       "    <tr>\n",
       "      <th>4</th>\n",
       "      <td>126.315789</td>\n",
       "      <td>1.422737e+06</td>\n",
       "    </tr>\n",
       "  </tbody>\n",
       "</table>\n",
       "</div>"
      ],
      "text/plain": [
       "            T            Ms\n",
       "0    0.000000  1.460000e+06\n",
       "1   31.578947  1.456985e+06\n",
       "2   63.157895  1.449450e+06\n",
       "3   94.736842  1.437973e+06\n",
       "4  126.315789  1.422737e+06"
      ]
     },
     "execution_count": 10,
     "metadata": {},
     "output_type": "execute_result"
    }
   ],
   "source": [
    "results_spindynamics.dataframe.head()"
   ]
  },
  {
   "cell_type": "markdown",
   "id": "6655876b-b697-4639-b35b-eaf57d68107b",
   "metadata": {},
   "source": [
    "### NOTE: update the NdFeB data"
   ]
  },
  {
   "cell_type": "code",
   "execution_count": 11,
   "id": "caede5a4",
   "metadata": {},
   "outputs": [
    {
     "data": {
      "image/png": "[encoded data removed]",
      "text/plain": [
       "<Figure size 640x480 with 1 Axes>"
      ]
     },
     "metadata": {},
     "output_type": "display_data"
    }
   ],
   "source": [
    "results_spindynamics.dataframe.plot(x=\"T\");"
   ]
  },
  {
   "cell_type": "markdown",
   "id": "c1699326",
   "metadata": {},
   "source": [
    "## 3: Calculate micromagnetic intrinsic properties using Kuz'min formula"
   ]
  },
  {
   "cell_type": "code",
   "execution_count": 12,
   "id": "e5ed6a92",
   "metadata": {},
   "outputs": [],
   "source": [
    "kuzmin_result = mammos_analysis.kuzmin_properties(\n",
    "    T=results_spindynamics.T,\n",
    "    Ms=results_spindynamics.Ms,\n",
    "    K1_0=results_dft.K1_0,\n",
    ")"
   ]
  },
  {
   "cell_type": "code",
   "execution_count": 13,
   "id": "b330ffde-5e56-498b-8b86-c4844cf38b08",
   "metadata": {},
   "outputs": [
    {
     "data": {
      "text/plain": [
       "KuzminResult(Ms=Ms(T), A=A(T), K1=K1(T))"
      ]
     },
     "execution_count": 13,
     "metadata": {},
     "output_type": "execute_result"
    }
   ],
   "source": [
    "kuzmin_result"
   ]
  },
  {
   "cell_type": "code",
   "execution_count": 14,
   "id": "3ff869e7",
   "metadata": {},
   "outputs": [
    {
     "data": {
      "text/latex": [
       "ThermodynamicTemperature(value=300.0, unit=K)"
      ],
      "text/plain": [
       "ThermodynamicTemperature(value=300.0, unit=K)"
      ]
     },
     "execution_count": 14,
     "metadata": {},
     "output_type": "execute_result"
    }
   ],
   "source": [
    "temperature = me.Entity(\"ThermodynamicTemperature\", value=300, unit=\"K\")\n",
    "temperature"
   ]
  },
  {
   "cell_type": "code",
   "execution_count": 15,
   "id": "903e761e",
   "metadata": {},
   "outputs": [
    {
     "data": {
      "text/plain": [
       "(SpontaneousMagnetization(value=1259264.6948937078, unit=A / m),\n",
       " ExchangeStiffnessConstant(value=4.158634560339533e-12, unit=J / m),\n",
       " UniaxialAnisotropyConstant(value=2759058.8934449223, unit=J / m3))"
      ]
     },
     "execution_count": 15,
     "metadata": {},
     "output_type": "execute_result"
    }
   ],
   "source": [
    "kuzmin_result.Ms(temperature), kuzmin_result.A(temperature), kuzmin_result.K1(temperature) "
   ]
  },
  {
   "cell_type": "code",
   "execution_count": 16,
   "id": "ea7fc8b3-7983-4c50-a6a0-2f7929301a38",
   "metadata": {},
   "outputs": [
    {
     "data": {
      "image/png": "[encoded data removed]",
      "text/plain": [
       "<Figure size 1440x480 with 3 Axes>"
      ]
     },
     "metadata": {},
     "output_type": "display_data"
    }
   ],
   "source": [
    "temprature_range = np.linspace(0, 700, 50)\n",
    "\n",
    "w, h = figaspect(1/3)\n",
    "fig, ax = plt.subplots(nrows=1, ncols=3, figsize=(w, h))\n",
    "ax[0].plot(temprature_range, kuzmin_result.Ms(temprature_range))\n",
    "ax[0].set_xlabel(\"T [K]\")\n",
    "ax[0].set_ylabel(\"Ms [A/m]\")\n",
    "ax[0].grid()\n",
    "\n",
    "ax[1].plot(temprature_range, kuzmin_result.A(temprature_range), c=\"r\")\n",
    "ax[1].set_xlabel(\"T [K]\")\n",
    "ax[1].set_ylabel(\"A [J/m]\")\n",
    "ax[1].grid()\n",
    "\n",
    "ax[2].plot(temprature_range, kuzmin_result.K1(temprature_range), c=\"g\")\n",
    "ax[2].set_xlabel(\"T [K]\")\n",
    "ax[2].set_ylabel(\"K1 [J/m3]\")\n",
    "ax[2].grid(2)\n",
    "\n",
    "plt.show()"
   ]
  },
  {
   "cell_type": "markdown",
   "id": "f7867930",
   "metadata": {},
   "source": [
    "## 4: Run micromagnetic simulation - Evaluate hysteresis loop"
   ]
  },
  {
   "cell_type": "code",
   "execution_count": null,
   "id": "4e143880",
   "metadata": {},
   "outputs": [],
   "source": [
    "loop_results = mammos_mumag.hysteresis.run(\n",
    "    mesh_filepath=mammos_mumag.mesh.CUBE_20_nm,\n",
    "    Ms=kuzmin_result.Ms(temperature),\n",
    "    A=kuzmin_result.A(temperature),\n",
    "    K1=kuzmin_result.K1(temperature),\n",
    "    hstart=(7*u.T).to(u.A / u.m),\n",
    "    hfinal=(-10*u.T).to(u.A / u.m),\n",
    "    hnsteps=30,\n",
    ")"
   ]
  },
  {
   "cell_type": "code",
   "execution_count": null,
   "id": "db47e7fe",
   "metadata": {},
   "outputs": [],
   "source": [
    "loop_results.H"
   ]
  },
  {
   "cell_type": "code",
   "execution_count": null,
   "id": "2f1cfd74",
   "metadata": {},
   "outputs": [],
   "source": [
    "loop_results.M"
   ]
  },
  {
   "cell_type": "code",
   "execution_count": null,
   "id": "40b5d62b",
   "metadata": {},
   "outputs": [],
   "source": [
    "loop_results.energy_density"
   ]
  },
  {
   "cell_type": "markdown",
   "id": "065ed377",
   "metadata": {},
   "source": [
    "The `dataframe` property generates a dataframe in the SI units."
   ]
  },
  {
   "cell_type": "code",
   "execution_count": null,
   "id": "474363a6",
   "metadata": {},
   "outputs": [],
   "source": [
    "loop_results.dataframe.head()"
   ]
  },
  {
   "cell_type": "markdown",
   "id": "b08458bb",
   "metadata": {},
   "source": [
    "We can generate a table in alternate unites:"
   ]
  },
  {
   "cell_type": "code",
   "execution_count": null,
   "id": "89a262bf",
   "metadata": {},
   "outputs": [],
   "source": [
    "df = pd.DataFrame(\n",
    "    {\n",
    "        \"mu0_H\": loop_results.H.to(u.T),\n",
    "        \"J\": loop_results.M.to(u.T),\n",
    "    }\n",
    ")\n",
    "df.head()"
   ]
  },
  {
   "cell_type": "code",
   "execution_count": null,
   "id": "e6f33999",
   "metadata": {},
   "outputs": [],
   "source": [
    "# INFO: useful information\n",
    "# df[\"H\"] = (df[\"mu0_Hext\"].to_numpy() * u.T).to(\"A/m\")\n",
    "# df[\"M\"] = (df[\"polarisation\"].to_numpy() * u.T).to(\"A/m\").value\n",
    "(df * u.T.to(\"A/m\")).head()"
   ]
  },
  {
   "cell_type": "code",
   "execution_count": null,
   "id": "a628f093",
   "metadata": {},
   "outputs": [],
   "source": [
    "loop_results.plot(duplicate=True, configuration_marks=True)"
   ]
  },
  {
   "cell_type": "code",
   "execution_count": null,
   "id": "cb472635",
   "metadata": {},
   "outputs": [],
   "source": [
    "loop_results.configurations"
   ]
  },
  {
   "cell_type": "code",
   "execution_count": null,
   "id": "c7883fb6",
   "metadata": {},
   "outputs": [],
   "source": [
    "loop_results.plot_configuration(1, jupyter_backend=\"static\")"
   ]
  },
  {
   "cell_type": "markdown",
   "id": "adee7ed9",
   "metadata": {},
   "source": [
    "We can extract the extrinsic properties with the `extrinsic_properties` function from the `mammos_analysis` package:"
   ]
  },
  {
   "cell_type": "code",
   "execution_count": null,
   "id": "16f686ff",
   "metadata": {},
   "outputs": [],
   "source": [
    "extrinsic_properties = mammos_analysis.hysteresis.extrinsic_properties(\n",
    "    loop_results.M,\n",
    "    loop_results.H,\n",
    "    demagnetisation_coefficient=None,\n",
    ")"
   ]
  },
  {
   "cell_type": "code",
   "execution_count": null,
   "id": "2948a08c",
   "metadata": {},
   "outputs": [],
   "source": [
    "extrinsic_properties.Hc"
   ]
  },
  {
   "cell_type": "code",
   "execution_count": null,
   "id": "8c674a7d",
   "metadata": {},
   "outputs": [],
   "source": [
    "extrinsic_properties.Mr"
   ]
  },
  {
   "cell_type": "code",
   "execution_count": null,
   "id": "92fc3f9a",
   "metadata": {},
   "outputs": [],
   "source": [
    "extrinsic_properties.BHmax\n",
    "# is Not A Number (not yet implemented)."
   ]
  },
  {
   "cell_type": "code",
   "execution_count": null,
   "id": "d9ec00a3",
   "metadata": {},
   "outputs": [],
   "source": [
    "loop_results.plot()\n",
    "plt.axhline(0, c=\"k\")\n",
    "plt.axvline(0, c=\"k\")\n",
    "plt.scatter([0],[extrinsic_properties.Mr.value], c=\"r\", label=\"Mr\")\n",
    "plt.scatter(extrinsic_properties.Hc.value, 0, c=\"g\", label=\"Hc\")\n",
    "plt.legend();"
   ]
  },
  {
   "cell_type": "code",
   "execution_count": null,
   "id": "3ab42dc8-4399-49d3-8dc2-4dc0266ab9eb",
   "metadata": {},
   "outputs": [],
   "source": []
  }
 ],
 "metadata": {
  "kernelspec": {
   "display_name": "Python 3 (ipykernel)",
   "language": "python",
   "name": "python3"
  },
  "language_info": {
   "codemirror_mode": {
    "name": "ipython",
    "version": 3
   },
   "file_extension": ".py",
   "mimetype": "text/x-python",
   "name": "python",
   "nbconvert_exporter": "python",
   "pygments_lexer": "ipython3",
   "version": "3.11.12"
  },
  "widgets": {
   "application/vnd.jupyter.widget-state+json": {
    "state": {},
    "version_major": 2,
    "version_minor": 0
   }
  }
 },
 "nbformat": 4,
 "nbformat_minor": 5
}
